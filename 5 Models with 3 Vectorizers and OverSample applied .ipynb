{
 "cells": [
  {
   "cell_type": "code",
   "execution_count": 43,
   "metadata": {},
   "outputs": [],
   "source": [
    "import numpy as np\n",
    "import pandas as pd\n",
    "from sklearn.model_selection import train_test_split\n",
    "import datetime,time\n",
    "from sklearn.metrics import accuracy_score,confusion_matrix,classification_report\n",
    "import matplotlib.pyplot as plt\n",
    "from sklearn.linear_model import LogisticRegression,LogisticRegressionCV,SGDClassifier\n",
    "from sklearn.naive_bayes import BernoulliNB\n",
    "from sklearn.ensemble import RandomForestClassifier\n",
    "from sklearn.feature_extraction.text import CountVectorizer, TfidfVectorizer,TfidfTransformer, HashingVectorizer\n",
    "from sklearn.model_selection import KFold\n",
    "from sklearn.pipeline import Pipeline\n",
    "import plotly.graph_objects as go\n",
    "from plotly.subplots import make_subplots\n",
    "from sklearn.svm import SVC\n",
    "import math\n",
    "import statistics\n",
    "from collections import defaultdict\n",
    "from imblearn import over_sampling\n",
    "from imblearn.over_sampling import SVMSMOTE\n",
    "import re\n"
   ]
  },
  {
   "cell_type": "code",
   "execution_count": 39,
   "metadata": {},
   "outputs": [
    {
     "name": "stdout",
     "output_type": "stream",
     "text": [
      "\n",
      "...........Results for Hashing Vectorizer..........\n",
      "\n",
      "-----------------\n",
      "Model: Logisitc Regression\n",
      "[[1073  238]\n",
      " [ 288 1007]]\n",
      "              precision    recall  f1-score   support\n",
      "\n",
      "           0       0.79      0.82      0.80      1311\n",
      "           1       0.81      0.78      0.79      1295\n",
      "\n",
      "    accuracy                           0.80      2606\n",
      "   macro avg       0.80      0.80      0.80      2606\n",
      "weighted avg       0.80      0.80      0.80      2606\n",
      "\n",
      "\n",
      "Accuracy on Training:\n",
      "86.62 %\n",
      "\n",
      "Accuracy on Testing:\n",
      "79.82 %\n",
      "\n",
      "Time taken to build the model is 0.40 Seconds\n",
      "\n",
      "Time taken for prediction is 0.00 Seconds\n",
      "\n",
      "-----------------\n",
      "Model: Random Forest\n",
      "[[1200  111]\n",
      " [ 369  926]]\n",
      "              precision    recall  f1-score   support\n",
      "\n",
      "           0       0.76      0.92      0.83      1311\n",
      "           1       0.89      0.72      0.79      1295\n",
      "\n",
      "    accuracy                           0.82      2606\n",
      "   macro avg       0.83      0.82      0.81      2606\n",
      "weighted avg       0.83      0.82      0.81      2606\n",
      "\n",
      "\n",
      "Accuracy on Training:\n",
      "94.19 %\n",
      "\n",
      "Accuracy on Testing:\n",
      "81.58 %\n",
      "\n",
      "Time taken to build the model is 15.55 Seconds\n",
      "\n",
      "Time taken for prediction is 0.24 Seconds\n",
      "\n",
      "-----------------\n",
      "Model: Support Vector_Machine\n",
      "[[1124  187]\n",
      " [ 278 1017]]\n",
      "              precision    recall  f1-score   support\n",
      "\n",
      "           0       0.80      0.86      0.83      1311\n",
      "           1       0.84      0.79      0.81      1295\n",
      "\n",
      "    accuracy                           0.82      2606\n",
      "   macro avg       0.82      0.82      0.82      2606\n",
      "weighted avg       0.82      0.82      0.82      2606\n",
      "\n",
      "\n",
      "Accuracy on Training:\n",
      "91.18 %\n",
      "\n",
      "Accuracy on Testing:\n",
      "82.16 %\n",
      "\n",
      "Time taken to build the model is 4.24 Seconds\n",
      "\n",
      "Time taken for prediction is 1.48 Seconds\n",
      "\n",
      "-----------------\n",
      "Model: Naive Bayes\n",
      "[[ 913  398]\n",
      " [ 206 1089]]\n",
      "              precision    recall  f1-score   support\n",
      "\n",
      "           0       0.82      0.70      0.75      1311\n",
      "           1       0.73      0.84      0.78      1295\n",
      "\n",
      "    accuracy                           0.77      2606\n",
      "   macro avg       0.77      0.77      0.77      2606\n",
      "weighted avg       0.77      0.77      0.77      2606\n",
      "\n",
      "\n",
      "Accuracy on Training:\n",
      "87.43 %\n",
      "\n",
      "Accuracy on Testing:\n",
      "76.82 %\n",
      "\n",
      "Time taken to build the model is 0.05 Seconds\n",
      "\n",
      "Time taken for prediction is 0.05 Seconds\n",
      "\n",
      "-----------------\n",
      "Model: SGD\n",
      "[[1116  195]\n",
      " [ 265 1030]]\n",
      "              precision    recall  f1-score   support\n",
      "\n",
      "           0       0.81      0.85      0.83      1311\n",
      "           1       0.84      0.80      0.82      1295\n",
      "\n",
      "    accuracy                           0.82      2606\n",
      "   macro avg       0.82      0.82      0.82      2606\n",
      "weighted avg       0.82      0.82      0.82      2606\n",
      "\n",
      "\n",
      "Accuracy on Training:\n",
      "92.46 %\n",
      "\n",
      "Accuracy on Testing:\n",
      "82.35 %\n",
      "\n",
      "Time taken to build the model is 0.17 Seconds\n",
      "\n",
      "Time taken for prediction is 0.00 Seconds\n",
      "\n",
      "...........Results for Count Vectorizer..........\n",
      "\n",
      "-----------------\n",
      "Model: Logisitc Regression\n",
      "[[1059  252]\n",
      " [ 264 1031]]\n",
      "              precision    recall  f1-score   support\n",
      "\n",
      "           0       0.80      0.81      0.80      1311\n",
      "           1       0.80      0.80      0.80      1295\n",
      "\n",
      "    accuracy                           0.80      2606\n",
      "   macro avg       0.80      0.80      0.80      2606\n",
      "weighted avg       0.80      0.80      0.80      2606\n",
      "\n",
      "\n",
      "Accuracy on Training:\n",
      "96.56 %\n",
      "\n",
      "Accuracy on Testing:\n",
      "80.20 %\n",
      "\n",
      "Time taken to build the model is 0.04 Seconds\n",
      "\n",
      "Time taken for prediction is 0.00 Seconds\n",
      "\n",
      "-----------------\n",
      "Model: Random Forest\n",
      "[[1145  166]\n",
      " [ 381  914]]\n",
      "              precision    recall  f1-score   support\n",
      "\n",
      "           0       0.75      0.87      0.81      1311\n",
      "           1       0.85      0.71      0.77      1295\n",
      "\n",
      "    accuracy                           0.79      2606\n",
      "   macro avg       0.80      0.79      0.79      2606\n",
      "weighted avg       0.80      0.79      0.79      2606\n",
      "\n",
      "\n",
      "Accuracy on Training:\n",
      "93.42 %\n",
      "\n",
      "Accuracy on Testing:\n",
      "79.01 %\n",
      "\n",
      "Time taken to build the model is 3.65 Seconds\n",
      "\n",
      "Time taken for prediction is 0.09 Seconds\n",
      "\n",
      "-----------------\n",
      "Model: Support Vector_Machine\n",
      "[[ 975  336]\n",
      " [ 231 1064]]\n",
      "              precision    recall  f1-score   support\n",
      "\n",
      "           0       0.81      0.74      0.77      1311\n",
      "           1       0.76      0.82      0.79      1295\n",
      "\n",
      "    accuracy                           0.78      2606\n",
      "   macro avg       0.78      0.78      0.78      2606\n",
      "weighted avg       0.78      0.78      0.78      2606\n",
      "\n",
      "\n",
      "Accuracy on Training:\n",
      "99.47 %\n",
      "\n",
      "Accuracy on Testing:\n",
      "78.24 %\n",
      "\n",
      "Time taken to build the model is 6.24 Seconds\n",
      "\n",
      "Time taken for prediction is 1.31 Seconds\n",
      "\n",
      "-----------------\n",
      "Model: Naive Bayes\n",
      "[[1134  177]\n",
      " [ 321  974]]\n",
      "              precision    recall  f1-score   support\n",
      "\n",
      "           0       0.78      0.86      0.82      1311\n",
      "           1       0.85      0.75      0.80      1295\n",
      "\n",
      "    accuracy                           0.81      2606\n",
      "   macro avg       0.81      0.81      0.81      2606\n",
      "weighted avg       0.81      0.81      0.81      2606\n",
      "\n",
      "\n",
      "Accuracy on Training:\n",
      "89.87 %\n",
      "\n",
      "Accuracy on Testing:\n",
      "80.89 %\n",
      "\n",
      "Time taken to build the model is 0.01 Seconds\n",
      "\n",
      "Time taken for prediction is 0.00 Seconds\n",
      "\n",
      "-----------------\n",
      "Model: SGD\n",
      "[[ 993  318]\n",
      " [ 253 1042]]\n",
      "              precision    recall  f1-score   support\n",
      "\n",
      "           0       0.80      0.76      0.78      1311\n",
      "           1       0.77      0.80      0.78      1295\n",
      "\n",
      "    accuracy                           0.78      2606\n",
      "   macro avg       0.78      0.78      0.78      2606\n",
      "weighted avg       0.78      0.78      0.78      2606\n",
      "\n",
      "\n",
      "Accuracy on Training:\n",
      "96.71 %\n",
      "\n",
      "Accuracy on Testing:\n",
      "78.09 %\n",
      "\n",
      "Time taken to build the model is 0.08 Seconds\n",
      "\n",
      "Time taken for prediction is 0.00 Seconds\n",
      "\n",
      "...........Results for TFIDF Vectorizer..........\n",
      "\n",
      "-----------------\n",
      "Model: Logisitc Regression\n",
      "[[1109  202]\n",
      " [ 273 1022]]\n",
      "              precision    recall  f1-score   support\n",
      "\n",
      "           0       0.80      0.85      0.82      1311\n",
      "           1       0.83      0.79      0.81      1295\n",
      "\n",
      "    accuracy                           0.82      2606\n",
      "   macro avg       0.82      0.82      0.82      2606\n",
      "weighted avg       0.82      0.82      0.82      2606\n",
      "\n",
      "\n",
      "Accuracy on Training:\n",
      "90.49 %\n",
      "\n",
      "Accuracy on Testing:\n",
      "81.77 %\n",
      "\n",
      "Time taken to build the model is 0.02 Seconds\n",
      "\n",
      "Time taken for prediction is 0.00 Seconds\n",
      "\n",
      "-----------------\n",
      "Model: Random Forest\n",
      "[[1180  131]\n",
      " [ 358  937]]\n",
      "              precision    recall  f1-score   support\n",
      "\n",
      "           0       0.77      0.90      0.83      1311\n",
      "           1       0.88      0.72      0.79      1295\n",
      "\n",
      "    accuracy                           0.81      2606\n",
      "   macro avg       0.82      0.81      0.81      2606\n",
      "weighted avg       0.82      0.81      0.81      2606\n",
      "\n",
      "\n",
      "Accuracy on Training:\n",
      "93.60 %\n",
      "\n",
      "Accuracy on Testing:\n",
      "81.24 %\n",
      "\n",
      "Time taken to build the model is 3.49 Seconds\n",
      "\n",
      "Time taken for prediction is 0.10 Seconds\n",
      "\n",
      "-----------------\n",
      "Model: Support Vector_Machine\n",
      "[[1149  162]\n",
      " [ 261 1034]]\n",
      "              precision    recall  f1-score   support\n",
      "\n",
      "           0       0.81      0.88      0.84      1311\n",
      "           1       0.86      0.80      0.83      1295\n",
      "\n",
      "    accuracy                           0.84      2606\n",
      "   macro avg       0.84      0.84      0.84      2606\n",
      "weighted avg       0.84      0.84      0.84      2606\n",
      "\n",
      "\n",
      "Accuracy on Training:\n",
      "95.03 %\n",
      "\n",
      "Accuracy on Testing:\n",
      "83.77 %\n",
      "\n",
      "Time taken to build the model is 4.69 Seconds\n",
      "\n",
      "Time taken for prediction is 1.60 Seconds\n",
      "\n",
      "-----------------\n",
      "Model: Naive Bayes\n",
      "[[1168  143]\n",
      " [ 281 1014]]\n",
      "              precision    recall  f1-score   support\n",
      "\n",
      "           0       0.81      0.89      0.85      1311\n",
      "           1       0.88      0.78      0.83      1295\n",
      "\n",
      "    accuracy                           0.84      2606\n",
      "   macro avg       0.84      0.84      0.84      2606\n",
      "weighted avg       0.84      0.84      0.84      2606\n",
      "\n",
      "\n",
      "Accuracy on Training:\n",
      "91.18 %\n",
      "\n",
      "Accuracy on Testing:\n",
      "83.73 %\n",
      "\n",
      "Time taken to build the model is 0.00 Seconds\n",
      "\n",
      "Time taken for prediction is 0.00 Seconds\n",
      "\n",
      "-----------------\n",
      "Model: SGD\n",
      "[[1128  183]\n",
      " [ 262 1033]]\n",
      "              precision    recall  f1-score   support\n",
      "\n",
      "           0       0.81      0.86      0.84      1311\n",
      "           1       0.85      0.80      0.82      1295\n",
      "\n",
      "    accuracy                           0.83      2606\n",
      "   macro avg       0.83      0.83      0.83      2606\n",
      "weighted avg       0.83      0.83      0.83      2606\n",
      "\n",
      "\n",
      "Accuracy on Training:\n",
      "95.39 %\n",
      "\n",
      "Accuracy on Testing:\n",
      "82.92 %\n",
      "\n",
      "Time taken to build the model is 0.08 Seconds\n",
      "\n",
      "Time taken for prediction is 0.00 Seconds\n"
     ]
    }
   ],
   "source": [
    "\n",
    "data=pd.read_csv('/Users/joe/Desktop/language-models-sprint1/data/train.csv')\n",
    "X = data['text']\n",
    "y = data['target']\n",
    "\n",
    "\n",
    "# different Vectorizers\n",
    "def Hash_vec(X):\n",
    "    Hvect=HashingVectorizer(lowercase=True,ngram_range=(1,1))\n",
    "    X=Hvect.fit_transform(X)\n",
    "    \n",
    "    return X\n",
    "\n",
    "def Count_Vec(X):\n",
    "    CountV=CountVectorizer(lowercase=True)\n",
    "    X=CountV.fit_transform(X)\n",
    "    \n",
    "    return X\n",
    "\n",
    "def TFIDF_vec(X):\n",
    "    tfidf=TfidfVectorizer(use_idf=True,lowercase=True)\n",
    "    X=tfidf.fit_transform(X)\n",
    "    \n",
    "    return X\n",
    "\n",
    "\n",
    "def overSample(X,y):\n",
    "    \n",
    "    oversample = SVMSMOTE(n_jobs=-1,random_state=47)\n",
    "    X, y = oversample.fit_resample(X, y)\n",
    "    \n",
    "    return X,y\n",
    "\n",
    "\n",
    "\n",
    "# ML methods\n",
    "LG=LogisticRegression(solver='liblinear')\n",
    "RF=RandomForestClassifier(n_estimators=265,max_depth=85,ccp_alpha=0.0001\n",
    "                          ,criterion='entropy',n_jobs=-1)\n",
    "\n",
    "SVM=SVC(kernel='linear')\n",
    "\n",
    "SGD=SGDClassifier(n_jobs=-1,loss='hinge',learning_rate='adaptive',eta0=0.4,early_stopping=True)\n",
    "\n",
    "NB=BernoulliNB()\n",
    "          \n",
    "list_of_Vectorizers = {'Hashing Vectorizer':Hash_vec,'Count Vectorizer':Count_Vec,\n",
    "                       'TFIDF Vectorizer':TFIDF_vec}\n",
    "\n",
    "list_of_models = {'Logisitc Regression':LG,'Random Forest':RF,'Support Vector_Machine':SVM,'Naive Bayes':NB,\n",
    "                  'SGD':SGD}\n",
    "\n",
    "\n",
    "models_accuracy = defaultdict()\n",
    "models_built_time=defaultdict()\n",
    "models_prediction_time=defaultdict()\n",
    "\n",
    "\n",
    "\n",
    "def get_Model_results(models,vectorizers,X,y):\n",
    "    \n",
    "    for Vectorizer_name, vectorizer in vectorizers.items():\n",
    "        print('\\n...........Results for {}..........'.format(Vectorizer_name))\n",
    "        X_vec=vectorizer(X)\n",
    "        X_samp,y_samp=overSample(X_vec,y)\n",
    "\n",
    "        X_train, X_test, y_train, y_test = train_test_split(X_samp, y_samp, test_size=0.30, random_state=42)\n",
    "        \n",
    "        for model_name, model in models.items():\n",
    "            start_time =  time.time()%60\n",
    "            text_clf = model.fit(X_train, y_train)\n",
    "            end_time= time.time()%60\n",
    "\n",
    "            if(end_time>start_time):\n",
    "                time_to_build_the_model='%.2f' %(end_time-start_time)\n",
    "            else:\n",
    "                time_to_build_the_model='%.2f' %(start_time-end_time)\n",
    "\n",
    "\n",
    "            start_time = time.time()%60\n",
    "            predicted = text_clf.predict(X_test)\n",
    "            end_time= time.time()%60\n",
    "\n",
    "            if(end_time>start_time):\n",
    "                time_to_predict='%.2f' %(end_time-start_time)\n",
    "            else:\n",
    "                time_to_predict='%.2f' %(start_time-end_time)\n",
    "\n",
    "\n",
    "            print('\\n-----------------\\nModel: {}'.format(model_name))\n",
    "            print(confusion_matrix(y_test,predicted))\n",
    "            print(classification_report(y_test,predicted))\n",
    "            print('\\nAccuracy on Training:\\n{00:.2f} %'.format(text_clf.score(X_train,y_train)*100))\n",
    "\n",
    "            print('\\nAccuracy on Testing:\\n{00:.2f} %'.format(accuracy_score(y_test,predicted)*100))\n",
    "\n",
    "            print('\\nTime taken to build the model is {} Seconds'.format(time_to_build_the_model))\n",
    "            print('\\nTime taken for prediction is {} Seconds'.format(time_to_predict))\n",
    "\n",
    "\n",
    "\n",
    "get_Model_results(list_of_models,list_of_Vectorizers,X,y)\n",
    "\n"
   ]
  },
  {
   "cell_type": "code",
   "execution_count": 44,
   "metadata": {},
   "outputs": [
    {
     "name": "stdout",
     "output_type": "stream",
     "text": [
      "\n",
      "...........Results for Hashing Vectorizer..........\n",
      "\n",
      "--------------------------------------\n",
      "Model: Logisitc Regression\n",
      "\n",
      "Mean Accuracy on Training\n",
      "\n",
      "86.75\n",
      "\n",
      "Mean Accuracy on Testing\n",
      "\n",
      "80.73\n",
      "\n",
      " Average Time taken to build the model is 0.48 Seconds\n",
      "\n",
      " Average Time taken to predict is 0.00 Seconds\n",
      "\n",
      "--------------------------------------\n",
      "Model: Random Forest\n",
      "\n",
      "Mean Accuracy on Training\n",
      "\n",
      "91.37\n",
      "\n",
      "Mean Accuracy on Testing\n",
      "\n",
      "81.52\n",
      "\n",
      " Average Time taken to build the model is 29.98 Seconds\n",
      "\n",
      " Average Time taken to predict is 0.17 Seconds\n",
      "\n",
      "--------------------------------------\n",
      "Model: Support Vector Machine\n",
      "\n",
      "Mean Accuracy on Training\n",
      "\n",
      "91.08\n",
      "\n",
      "Mean Accuracy on Testing\n",
      "\n",
      "82.89\n",
      "\n",
      " Average Time taken to build the model is 15.91 Seconds\n",
      "\n",
      " Average Time taken to predict is 0.61 Seconds\n",
      "\n",
      "--------------------------------------\n",
      "Model: Naive Bayes\n",
      "\n",
      "Mean Accuracy on Training\n",
      "\n",
      "85.03\n",
      "\n",
      "Mean Accuracy on Testing\n",
      "\n",
      "76.61\n",
      "\n",
      " Average Time taken to build the model is 0.04 Seconds\n",
      "\n",
      " Average Time taken to predict is 0.05 Seconds\n",
      "\n",
      "--------------------------------------\n",
      "Model: SGD\n",
      "\n",
      "Mean Accuracy on Training\n",
      "\n",
      "91.32\n",
      "\n",
      "Mean Accuracy on Testing\n",
      "\n",
      "82.84\n",
      "\n",
      " Average Time taken to build the model is 0.17 Seconds\n",
      "\n",
      " Average Time taken to predict is 0.00 Seconds\n",
      "\n",
      "...........Results for Count Vectorizer..........\n",
      "\n",
      "--------------------------------------\n",
      "Model: Logisitc Regression\n",
      "\n",
      "Mean Accuracy on Training\n",
      "\n",
      "96.24\n",
      "\n",
      "Mean Accuracy on Testing\n",
      "\n",
      "80.34\n",
      "\n",
      " Average Time taken to build the model is 0.06 Seconds\n",
      "\n",
      " Average Time taken to predict is 0.00 Seconds\n",
      "\n",
      "--------------------------------------\n",
      "Model: Random Forest\n",
      "\n",
      "Mean Accuracy on Training\n",
      "\n",
      "89.14\n",
      "\n",
      "Mean Accuracy on Testing\n",
      "\n",
      "78.06\n",
      "\n",
      " Average Time taken to build the model is 3.75 Seconds\n",
      "\n",
      " Average Time taken to predict is 0.05 Seconds\n",
      "\n",
      "--------------------------------------\n",
      "Model: Support Vector Machine\n",
      "\n",
      "Mean Accuracy on Training\n",
      "\n",
      "99.38\n",
      "\n",
      "Mean Accuracy on Testing\n",
      "\n",
      "77.59\n",
      "\n",
      " Average Time taken to build the model is 13.24 Seconds\n",
      "\n",
      " Average Time taken to predict is 0.52 Seconds\n",
      "\n",
      "--------------------------------------\n",
      "Model: Naive Bayes\n",
      "\n",
      "Mean Accuracy on Training\n",
      "\n",
      "89.08\n",
      "\n",
      "Mean Accuracy on Testing\n",
      "\n",
      "80.57\n",
      "\n",
      " Average Time taken to build the model is 0.00 Seconds\n",
      "\n",
      " Average Time taken to predict is 0.00 Seconds\n",
      "\n",
      "--------------------------------------\n",
      "Model: SGD\n",
      "\n",
      "Mean Accuracy on Training\n",
      "\n",
      "97.18\n",
      "\n",
      "Mean Accuracy on Testing\n",
      "\n",
      "78.13\n",
      "\n",
      " Average Time taken to build the model is 0.10 Seconds\n",
      "\n",
      " Average Time taken to predict is 0.00 Seconds\n",
      "\n",
      "...........Results for TFIDF Vectorizer..........\n",
      "\n",
      "--------------------------------------\n",
      "Model: Logisitc Regression\n",
      "\n",
      "Mean Accuracy on Training\n",
      "\n",
      "90.47\n",
      "\n",
      "Mean Accuracy on Testing\n",
      "\n",
      "81.85\n",
      "\n",
      " Average Time taken to build the model is 0.02 Seconds\n",
      "\n",
      " Average Time taken to predict is 0.00 Seconds\n",
      "\n",
      "--------------------------------------\n",
      "Model: Random Forest\n",
      "\n",
      "Mean Accuracy on Training\n",
      "\n",
      "90.84\n",
      "\n",
      "Mean Accuracy on Testing\n",
      "\n",
      "80.02\n",
      "\n",
      " Average Time taken to build the model is 8.78 Seconds\n",
      "\n",
      " Average Time taken to predict is 0.05 Seconds\n",
      "\n",
      "--------------------------------------\n",
      "Model: Support Vector Machine\n",
      "\n",
      "Mean Accuracy on Training\n",
      "\n",
      "94.60\n",
      "\n",
      "Mean Accuracy on Testing\n",
      "\n",
      "83.67\n",
      "\n",
      " Average Time taken to build the model is 11.68 Seconds\n",
      "\n",
      " Average Time taken to predict is 6.54 Seconds\n",
      "\n",
      "--------------------------------------\n",
      "Model: Naive Bayes\n",
      "\n",
      "Mean Accuracy on Training\n",
      "\n",
      "90.87\n",
      "\n",
      "Mean Accuracy on Testing\n",
      "\n",
      "83.11\n",
      "\n",
      " Average Time taken to build the model is 0.01 Seconds\n",
      "\n",
      " Average Time taken to predict is 0.00 Seconds\n",
      "\n",
      "--------------------------------------\n",
      "Model: SGD\n",
      "\n",
      "Mean Accuracy on Training\n",
      "\n",
      "94.48\n",
      "\n",
      "Mean Accuracy on Testing\n",
      "\n",
      "83.43\n",
      "\n",
      " Average Time taken to build the model is 0.11 Seconds\n",
      "\n",
      " Average Time taken to predict is 0.00 Seconds\n"
     ]
    }
   ],
   "source": [
    "#Over Sample is applied here and the code prodcues results of each method using all vectorizers\n",
    "# Same 5 models, but with 10-Fold Cross Validation including building and testing time of the model  \n",
    "\n",
    "df=pd.read_csv('/Users/joe/Desktop/language-models-sprint1/data/train.csv')\n",
    "X = df['text']\n",
    "y = df['target']\n",
    "\n",
    "\n",
    "\n",
    "# different Vectorizers\n",
    "def Hash_vec(X):\n",
    "    Hvect=HashingVectorizer(lowercase=True,ngram_range=(1,1))\n",
    "    X=Hvect.fit_transform(X)\n",
    "    \n",
    "    return X\n",
    "\n",
    "def Count_Vec(X):\n",
    "    CountV=CountVectorizer(lowercase=True)\n",
    "    X=CountV.fit_transform(X)\n",
    "    \n",
    "    return X\n",
    "\n",
    "def TFIDF_vec(X):\n",
    "    tfidf=TfidfVectorizer(use_idf=True,lowercase=True)\n",
    "    X=tfidf.fit_transform(X)\n",
    "    \n",
    "    return X\n",
    "\n",
    "\n",
    "def overSample(X,y):\n",
    "    \n",
    "    oversample = SVMSMOTE(n_jobs=-1,random_state=47)\n",
    "    X, y = oversample.fit_resample(X, y)\n",
    "    return X,y\n",
    "\n",
    "\n",
    "\n",
    "# ML methods\n",
    "LG=LogisticRegression(solver='liblinear')\n",
    "\n",
    "RF=RandomForestClassifier(n_estimators=265,max_depth=60,ccp_alpha=0.0001,criterion='entropy',n_jobs=-1)\n",
    "\n",
    "SVM=SVC(kernel='linear')\n",
    "\n",
    "SGD=SGDClassifier(n_jobs=-1,loss='hinge',learning_rate='adaptive',eta0=0.4,early_stopping=True)\n",
    "\n",
    "NB=BernoulliNB()\n",
    "\n",
    "\n",
    "models_accuracy = defaultdict()\n",
    "models_built_time=defaultdict()\n",
    "models_prediction_time=defaultdict()\n",
    "\n",
    "\n",
    "          \n",
    "list_of_Vectorizers = {'Hashing Vectorizer':Hash_vec,'Count Vectorizer':Count_Vec,\n",
    "                       'TFIDF Vectorizer':TFIDF_vec}\n",
    "\n",
    "list_of_models = {'Logisitc Regression':LG,'Random Forest':RF,'Support Vector Machine':SVM,'Naive Bayes':NB,\n",
    "                  'SGD':SGD}\n",
    "\n",
    "\n",
    "\n",
    "\n",
    "def CV_model_score(models,Vectorizers,X,y):\n",
    "    kf = KFold(n_splits=10,random_state=42,shuffle=True)\n",
    "    for Vectorizer_name, vectorizer in Vectorizers.items():\n",
    "        print('\\n...........Results for {}..........'.format(Vectorizer_name))\n",
    "        X_vec=vectorizer(X)\n",
    "        X_samp,y_samp=overSample(X_vec,y)\n",
    "        for model_name, model in models.items():\n",
    "            single_modele_scores=[]\n",
    "            single_modele_build_time=[]\n",
    "            single_modele_predict_time=[]\n",
    "            single_modele_scores_for_training=[]\n",
    "            for train_index, test_index in kf.split(X_samp,y_samp):\n",
    "\n",
    "                start_time =  time.time()%60\n",
    "                X_train, X_test = X_samp[train_index], X_samp[test_index]\n",
    "                y_train, y_test = y_samp[train_index], y_samp[test_index]\n",
    "                text_clf = model.fit(X_train, y_train)\n",
    "                end_time= time.time()%60\n",
    "                if(end_time>start_time):\n",
    "                     time_to_build_the_model=float('%.2f' %(end_time-start_time))\n",
    "                else:\n",
    "                    time_to_build_the_model=float('%.2f' %(start_time-end_time))\n",
    "\n",
    "                single_modele_build_time.append(time_to_build_the_model)\n",
    "                start_time = time.time()%60\n",
    "                predicted = text_clf.predict(X_test)\n",
    "                end_time= time.time()%60\n",
    "                if(end_time>start_time):\n",
    "                    time_to_predict=float('%.2f' %(end_time-start_time))\n",
    "                else:\n",
    "                    time_to_predict=float('%.2f' %(start_time-end_time))\n",
    "                single_modele_predict_time.append(time_to_predict)\n",
    "\n",
    "                testing_accuracy=float('%.2f' %(accuracy_score(y_test,predicted)*100))\n",
    "                single_modele_scores.append(testing_accuracy)\n",
    "\n",
    "                training_accuracy=float('%.2f' %(text_clf.score(X_train,y_train)*100))\n",
    "                single_modele_scores_for_training.append(training_accuracy)\n",
    "\n",
    "            models_accuracy[model_name+\" \"+Vectorizer_name]=single_modele_scores\n",
    "            testing_accuracy=statistics.mean(single_modele_scores)\n",
    "            training_accuracy=statistics.mean(single_modele_scores_for_training)\n",
    "            models_built_time=statistics.mean(single_modele_build_time)\n",
    "            models_prediction_time=statistics.mean(single_modele_predict_time)\n",
    "\n",
    "            print('\\n--------------------------------------\\nModel: {}'.format(model_name))\n",
    "            print('\\nMean Accuracy on Training\\n')\n",
    "            print('%.2f' %training_accuracy)\n",
    "            print('\\nMean Accuracy on Testing\\n')\n",
    "            print('%.2f' %testing_accuracy)\n",
    "            print('\\n Average Time taken to build the model is {00:.2f} Seconds'.format(models_built_time))\n",
    "            print('\\n Average Time taken to predict is {00:.2f} Seconds'.format(models_prediction_time))\n",
    "       \n",
    "\n",
    "\n",
    "CV_model_score(list_of_models,list_of_Vectorizers,X,y)\n"
   ]
  },
  {
   "cell_type": "code",
   "execution_count": 40,
   "metadata": {},
   "outputs": [],
   "source": [
    "# Method to plot the result\n",
    "\n",
    "def resutls_visulization(list_of_resutls):\n",
    "   \n",
    "    model_names = list(list_of_resutls.keys())\n",
    "    results = [list_of_resutls[model] for model in model_names]\n",
    "    fig = go.Figure()\n",
    "    for model, result in zip(model_names, results):\n",
    "        fig.add_trace(go.Box(\n",
    "            y=result,\n",
    "            name=model,\n",
    "            boxpoints='all',\n",
    "            jitter=0.8,\n",
    "            whiskerwidth=0.9,\n",
    "            marker_size=5,\n",
    "            line_width=2)\n",
    "        )\n",
    "        \n",
    "    \n",
    "    fig.update_layout(\n",
    "    title='Performance of 5 ML Models Using 10-Fold Cross-Validation Using 3 Victorizers',\n",
    "    paper_bgcolor='rgb(243, 243, 243)',\n",
    "    plot_bgcolor='rgb(243, 243, 243)',\n",
    "    showlegend=False)\n",
    "    fig.update_yaxes(title_text=\"<b> Folds Accuracy % </b>\")\n",
    "    fig.update_xaxes(title_text=\"<b>ML Model and Type of Applied Victorizer </b>\")\n",
    "    fig.show()\n"
   ]
  },
  {
   "cell_type": "code",
   "execution_count": 45,
   "metadata": {},
   "outputs": [
    {
     "data": {
      "application/vnd.plotly.v1+json": {
       "config": {
        "plotlyServerURL": "https://plot.ly"
       },
       "data": [
        {
         "boxpoints": "all",
         "jitter": 0.8,
         "line": {
          "width": 2
         },
         "marker": {
          "size": 5
         },
         "name": "Logisitc Regression Hashing Vectorizer",
         "type": "box",
         "whiskerwidth": 0.9,
         "y": [
          80.67,
          80.78,
          81.93,
          82.39,
          82.49,
          81.22,
          81.68,
          79.15,
          77.88,
          79.15
         ]
        },
        {
         "boxpoints": "all",
         "jitter": 0.8,
         "line": {
          "width": 2
         },
         "marker": {
          "size": 5
         },
         "name": "Random Forest Hashing Vectorizer",
         "type": "box",
         "whiskerwidth": 0.9,
         "y": [
          81.36,
          80.78,
          83.31,
          83.66,
          83.87,
          79.61,
          82.83,
          79.84,
          79.84,
          80.07
         ]
        },
        {
         "boxpoints": "all",
         "jitter": 0.8,
         "line": {
          "width": 2
         },
         "marker": {
          "size": 5
         },
         "name": "Support Vector Machine Hashing Vectorizer",
         "type": "box",
         "whiskerwidth": 0.9,
         "y": [
          83.54,
          82.97,
          83.31,
          85.62,
          83.64,
          83.06,
          83.87,
          81.22,
          81.45,
          80.18
         ]
        },
        {
         "boxpoints": "all",
         "jitter": 0.8,
         "line": {
          "width": 2
         },
         "marker": {
          "size": 5
         },
         "name": "Naive Bayes Hashing Vectorizer",
         "type": "box",
         "whiskerwidth": 0.9,
         "y": [
          79.98,
          77.33,
          72.04,
          70.54,
          80.99,
          74.19,
          79.84,
          77.65,
          77.07,
          76.5
         ]
        },
        {
         "boxpoints": "all",
         "jitter": 0.8,
         "line": {
          "width": 2
         },
         "marker": {
          "size": 5
         },
         "name": "SGD Hashing Vectorizer",
         "type": "box",
         "whiskerwidth": 0.9,
         "y": [
          83.54,
          84.12,
          82.97,
          85.62,
          83.99,
          82.95,
          83.76,
          80.65,
          80.65,
          80.18
         ]
        },
        {
         "boxpoints": "all",
         "jitter": 0.8,
         "line": {
          "width": 2
         },
         "marker": {
          "size": 5
         },
         "name": "Logisitc Regression Count Vectorizer",
         "type": "box",
         "whiskerwidth": 0.9,
         "y": [
          81.13,
          80.9,
          80.78,
          81.24,
          82.03,
          80.3,
          81.45,
          77.42,
          78.11,
          80.07
         ]
        },
        {
         "boxpoints": "all",
         "jitter": 0.8,
         "line": {
          "width": 2
         },
         "marker": {
          "size": 5
         },
         "name": "Random Forest Count Vectorizer",
         "type": "box",
         "whiskerwidth": 0.9,
         "y": [
          78.6,
          77.68,
          79.75,
          79.52,
          79.84,
          77.07,
          78.23,
          75.81,
          76.5,
          77.65
         ]
        },
        {
         "boxpoints": "all",
         "jitter": 0.8,
         "line": {
          "width": 2
         },
         "marker": {
          "size": 5
         },
         "name": "Support Vector Machine Count Vectorizer",
         "type": "box",
         "whiskerwidth": 0.9,
         "y": [
          78.14,
          76.99,
          78.25,
          78.37,
          79.95,
          76.5,
          80.76,
          74.54,
          75.23,
          77.19
         ]
        },
        {
         "boxpoints": "all",
         "jitter": 0.8,
         "line": {
          "width": 2
         },
         "marker": {
          "size": 5
         },
         "name": "Naive Bayes Count Vectorizer",
         "type": "box",
         "whiskerwidth": 0.9,
         "y": [
          81.47,
          81.47,
          82.28,
          81.59,
          81.11,
          78.8,
          81.57,
          78.57,
          79.72,
          79.15
         ]
        },
        {
         "boxpoints": "all",
         "jitter": 0.8,
         "line": {
          "width": 2
         },
         "marker": {
          "size": 5
         },
         "name": "SGD Count Vectorizer",
         "type": "box",
         "whiskerwidth": 0.9,
         "y": [
          80.44,
          76.99,
          77.45,
          78.48,
          78.92,
          77.42,
          80.3,
          76.84,
          76.73,
          77.76
         ]
        },
        {
         "boxpoints": "all",
         "jitter": 0.8,
         "line": {
          "width": 2
         },
         "marker": {
          "size": 5
         },
         "name": "Logisitc Regression TFIDF Vectorizer",
         "type": "box",
         "whiskerwidth": 0.9,
         "y": [
          81.82,
          82.05,
          83.2,
          82.39,
          82.95,
          82.14,
          84.33,
          80.18,
          79.72,
          79.72
         ]
        },
        {
         "boxpoints": "all",
         "jitter": 0.8,
         "line": {
          "width": 2
         },
         "marker": {
          "size": 5
         },
         "name": "Random Forest TFIDF Vectorizer",
         "type": "box",
         "whiskerwidth": 0.9,
         "y": [
          81.93,
          79.4,
          81.93,
          81.13,
          83.41,
          78,
          79.84,
          77.65,
          78.69,
          78.23
         ]
        },
        {
         "boxpoints": "all",
         "jitter": 0.8,
         "line": {
          "width": 2
         },
         "marker": {
          "size": 5
         },
         "name": "Support Vector Machine TFIDF Vectorizer",
         "type": "box",
         "whiskerwidth": 0.9,
         "y": [
          84.23,
          83.43,
          84.35,
          85.5,
          85.6,
          83.99,
          84.68,
          82.6,
          81.45,
          80.88
         ]
        },
        {
         "boxpoints": "all",
         "jitter": 0.8,
         "line": {
          "width": 2
         },
         "marker": {
          "size": 5
         },
         "name": "Naive Bayes TFIDF Vectorizer",
         "type": "box",
         "whiskerwidth": 0.9,
         "y": [
          84.58,
          84.23,
          85.39,
          83.89,
          83.76,
          81.8,
          83.18,
          81.11,
          81.8,
          81.34
         ]
        },
        {
         "boxpoints": "all",
         "jitter": 0.8,
         "line": {
          "width": 2
         },
         "marker": {
          "size": 5
         },
         "name": "SGD TFIDF Vectorizer",
         "type": "box",
         "whiskerwidth": 0.9,
         "y": [
          83.89,
          84.58,
          84.23,
          83.31,
          85.02,
          84.1,
          83.87,
          82.6,
          81.68,
          80.99
         ]
        }
       ],
       "layout": {
        "paper_bgcolor": "rgb(243, 243, 243)",
        "plot_bgcolor": "rgb(243, 243, 243)",
        "showlegend": false,
        "template": {
         "data": {
          "bar": [
           {
            "error_x": {
             "color": "#2a3f5f"
            },
            "error_y": {
             "color": "#2a3f5f"
            },
            "marker": {
             "line": {
              "color": "#E5ECF6",
              "width": 0.5
             }
            },
            "type": "bar"
           }
          ],
          "barpolar": [
           {
            "marker": {
             "line": {
              "color": "#E5ECF6",
              "width": 0.5
             }
            },
            "type": "barpolar"
           }
          ],
          "carpet": [
           {
            "aaxis": {
             "endlinecolor": "#2a3f5f",
             "gridcolor": "white",
             "linecolor": "white",
             "minorgridcolor": "white",
             "startlinecolor": "#2a3f5f"
            },
            "baxis": {
             "endlinecolor": "#2a3f5f",
             "gridcolor": "white",
             "linecolor": "white",
             "minorgridcolor": "white",
             "startlinecolor": "#2a3f5f"
            },
            "type": "carpet"
           }
          ],
          "choropleth": [
           {
            "colorbar": {
             "outlinewidth": 0,
             "ticks": ""
            },
            "type": "choropleth"
           }
          ],
          "contour": [
           {
            "colorbar": {
             "outlinewidth": 0,
             "ticks": ""
            },
            "colorscale": [
             [
              0,
              "#0d0887"
             ],
             [
              0.1111111111111111,
              "#46039f"
             ],
             [
              0.2222222222222222,
              "#7201a8"
             ],
             [
              0.3333333333333333,
              "#9c179e"
             ],
             [
              0.4444444444444444,
              "#bd3786"
             ],
             [
              0.5555555555555556,
              "#d8576b"
             ],
             [
              0.6666666666666666,
              "#ed7953"
             ],
             [
              0.7777777777777778,
              "#fb9f3a"
             ],
             [
              0.8888888888888888,
              "#fdca26"
             ],
             [
              1,
              "#f0f921"
             ]
            ],
            "type": "contour"
           }
          ],
          "contourcarpet": [
           {
            "colorbar": {
             "outlinewidth": 0,
             "ticks": ""
            },
            "type": "contourcarpet"
           }
          ],
          "heatmap": [
           {
            "colorbar": {
             "outlinewidth": 0,
             "ticks": ""
            },
            "colorscale": [
             [
              0,
              "#0d0887"
             ],
             [
              0.1111111111111111,
              "#46039f"
             ],
             [
              0.2222222222222222,
              "#7201a8"
             ],
             [
              0.3333333333333333,
              "#9c179e"
             ],
             [
              0.4444444444444444,
              "#bd3786"
             ],
             [
              0.5555555555555556,
              "#d8576b"
             ],
             [
              0.6666666666666666,
              "#ed7953"
             ],
             [
              0.7777777777777778,
              "#fb9f3a"
             ],
             [
              0.8888888888888888,
              "#fdca26"
             ],
             [
              1,
              "#f0f921"
             ]
            ],
            "type": "heatmap"
           }
          ],
          "heatmapgl": [
           {
            "colorbar": {
             "outlinewidth": 0,
             "ticks": ""
            },
            "colorscale": [
             [
              0,
              "#0d0887"
             ],
             [
              0.1111111111111111,
              "#46039f"
             ],
             [
              0.2222222222222222,
              "#7201a8"
             ],
             [
              0.3333333333333333,
              "#9c179e"
             ],
             [
              0.4444444444444444,
              "#bd3786"
             ],
             [
              0.5555555555555556,
              "#d8576b"
             ],
             [
              0.6666666666666666,
              "#ed7953"
             ],
             [
              0.7777777777777778,
              "#fb9f3a"
             ],
             [
              0.8888888888888888,
              "#fdca26"
             ],
             [
              1,
              "#f0f921"
             ]
            ],
            "type": "heatmapgl"
           }
          ],
          "histogram": [
           {
            "marker": {
             "colorbar": {
              "outlinewidth": 0,
              "ticks": ""
             }
            },
            "type": "histogram"
           }
          ],
          "histogram2d": [
           {
            "colorbar": {
             "outlinewidth": 0,
             "ticks": ""
            },
            "colorscale": [
             [
              0,
              "#0d0887"
             ],
             [
              0.1111111111111111,
              "#46039f"
             ],
             [
              0.2222222222222222,
              "#7201a8"
             ],
             [
              0.3333333333333333,
              "#9c179e"
             ],
             [
              0.4444444444444444,
              "#bd3786"
             ],
             [
              0.5555555555555556,
              "#d8576b"
             ],
             [
              0.6666666666666666,
              "#ed7953"
             ],
             [
              0.7777777777777778,
              "#fb9f3a"
             ],
             [
              0.8888888888888888,
              "#fdca26"
             ],
             [
              1,
              "#f0f921"
             ]
            ],
            "type": "histogram2d"
           }
          ],
          "histogram2dcontour": [
           {
            "colorbar": {
             "outlinewidth": 0,
             "ticks": ""
            },
            "colorscale": [
             [
              0,
              "#0d0887"
             ],
             [
              0.1111111111111111,
              "#46039f"
             ],
             [
              0.2222222222222222,
              "#7201a8"
             ],
             [
              0.3333333333333333,
              "#9c179e"
             ],
             [
              0.4444444444444444,
              "#bd3786"
             ],
             [
              0.5555555555555556,
              "#d8576b"
             ],
             [
              0.6666666666666666,
              "#ed7953"
             ],
             [
              0.7777777777777778,
              "#fb9f3a"
             ],
             [
              0.8888888888888888,
              "#fdca26"
             ],
             [
              1,
              "#f0f921"
             ]
            ],
            "type": "histogram2dcontour"
           }
          ],
          "mesh3d": [
           {
            "colorbar": {
             "outlinewidth": 0,
             "ticks": ""
            },
            "type": "mesh3d"
           }
          ],
          "parcoords": [
           {
            "line": {
             "colorbar": {
              "outlinewidth": 0,
              "ticks": ""
             }
            },
            "type": "parcoords"
           }
          ],
          "pie": [
           {
            "automargin": true,
            "type": "pie"
           }
          ],
          "scatter": [
           {
            "marker": {
             "colorbar": {
              "outlinewidth": 0,
              "ticks": ""
             }
            },
            "type": "scatter"
           }
          ],
          "scatter3d": [
           {
            "line": {
             "colorbar": {
              "outlinewidth": 0,
              "ticks": ""
             }
            },
            "marker": {
             "colorbar": {
              "outlinewidth": 0,
              "ticks": ""
             }
            },
            "type": "scatter3d"
           }
          ],
          "scattercarpet": [
           {
            "marker": {
             "colorbar": {
              "outlinewidth": 0,
              "ticks": ""
             }
            },
            "type": "scattercarpet"
           }
          ],
          "scattergeo": [
           {
            "marker": {
             "colorbar": {
              "outlinewidth": 0,
              "ticks": ""
             }
            },
            "type": "scattergeo"
           }
          ],
          "scattergl": [
           {
            "marker": {
             "colorbar": {
              "outlinewidth": 0,
              "ticks": ""
             }
            },
            "type": "scattergl"
           }
          ],
          "scattermapbox": [
           {
            "marker": {
             "colorbar": {
              "outlinewidth": 0,
              "ticks": ""
             }
            },
            "type": "scattermapbox"
           }
          ],
          "scatterpolar": [
           {
            "marker": {
             "colorbar": {
              "outlinewidth": 0,
              "ticks": ""
             }
            },
            "type": "scatterpolar"
           }
          ],
          "scatterpolargl": [
           {
            "marker": {
             "colorbar": {
              "outlinewidth": 0,
              "ticks": ""
             }
            },
            "type": "scatterpolargl"
           }
          ],
          "scatterternary": [
           {
            "marker": {
             "colorbar": {
              "outlinewidth": 0,
              "ticks": ""
             }
            },
            "type": "scatterternary"
           }
          ],
          "surface": [
           {
            "colorbar": {
             "outlinewidth": 0,
             "ticks": ""
            },
            "colorscale": [
             [
              0,
              "#0d0887"
             ],
             [
              0.1111111111111111,
              "#46039f"
             ],
             [
              0.2222222222222222,
              "#7201a8"
             ],
             [
              0.3333333333333333,
              "#9c179e"
             ],
             [
              0.4444444444444444,
              "#bd3786"
             ],
             [
              0.5555555555555556,
              "#d8576b"
             ],
             [
              0.6666666666666666,
              "#ed7953"
             ],
             [
              0.7777777777777778,
              "#fb9f3a"
             ],
             [
              0.8888888888888888,
              "#fdca26"
             ],
             [
              1,
              "#f0f921"
             ]
            ],
            "type": "surface"
           }
          ],
          "table": [
           {
            "cells": {
             "fill": {
              "color": "#EBF0F8"
             },
             "line": {
              "color": "white"
             }
            },
            "header": {
             "fill": {
              "color": "#C8D4E3"
             },
             "line": {
              "color": "white"
             }
            },
            "type": "table"
           }
          ]
         },
         "layout": {
          "annotationdefaults": {
           "arrowcolor": "#2a3f5f",
           "arrowhead": 0,
           "arrowwidth": 1
          },
          "autotypenumbers": "strict",
          "coloraxis": {
           "colorbar": {
            "outlinewidth": 0,
            "ticks": ""
           }
          },
          "colorscale": {
           "diverging": [
            [
             0,
             "#8e0152"
            ],
            [
             0.1,
             "#c51b7d"
            ],
            [
             0.2,
             "#de77ae"
            ],
            [
             0.3,
             "#f1b6da"
            ],
            [
             0.4,
             "#fde0ef"
            ],
            [
             0.5,
             "#f7f7f7"
            ],
            [
             0.6,
             "#e6f5d0"
            ],
            [
             0.7,
             "#b8e186"
            ],
            [
             0.8,
             "#7fbc41"
            ],
            [
             0.9,
             "#4d9221"
            ],
            [
             1,
             "#276419"
            ]
           ],
           "sequential": [
            [
             0,
             "#0d0887"
            ],
            [
             0.1111111111111111,
             "#46039f"
            ],
            [
             0.2222222222222222,
             "#7201a8"
            ],
            [
             0.3333333333333333,
             "#9c179e"
            ],
            [
             0.4444444444444444,
             "#bd3786"
            ],
            [
             0.5555555555555556,
             "#d8576b"
            ],
            [
             0.6666666666666666,
             "#ed7953"
            ],
            [
             0.7777777777777778,
             "#fb9f3a"
            ],
            [
             0.8888888888888888,
             "#fdca26"
            ],
            [
             1,
             "#f0f921"
            ]
           ],
           "sequentialminus": [
            [
             0,
             "#0d0887"
            ],
            [
             0.1111111111111111,
             "#46039f"
            ],
            [
             0.2222222222222222,
             "#7201a8"
            ],
            [
             0.3333333333333333,
             "#9c179e"
            ],
            [
             0.4444444444444444,
             "#bd3786"
            ],
            [
             0.5555555555555556,
             "#d8576b"
            ],
            [
             0.6666666666666666,
             "#ed7953"
            ],
            [
             0.7777777777777778,
             "#fb9f3a"
            ],
            [
             0.8888888888888888,
             "#fdca26"
            ],
            [
             1,
             "#f0f921"
            ]
           ]
          },
          "colorway": [
           "#636efa",
           "#EF553B",
           "#00cc96",
           "#ab63fa",
           "#FFA15A",
           "#19d3f3",
           "#FF6692",
           "#B6E880",
           "#FF97FF",
           "#FECB52"
          ],
          "font": {
           "color": "#2a3f5f"
          },
          "geo": {
           "bgcolor": "white",
           "lakecolor": "white",
           "landcolor": "#E5ECF6",
           "showlakes": true,
           "showland": true,
           "subunitcolor": "white"
          },
          "hoverlabel": {
           "align": "left"
          },
          "hovermode": "closest",
          "mapbox": {
           "style": "light"
          },
          "paper_bgcolor": "white",
          "plot_bgcolor": "#E5ECF6",
          "polar": {
           "angularaxis": {
            "gridcolor": "white",
            "linecolor": "white",
            "ticks": ""
           },
           "bgcolor": "#E5ECF6",
           "radialaxis": {
            "gridcolor": "white",
            "linecolor": "white",
            "ticks": ""
           }
          },
          "scene": {
           "xaxis": {
            "backgroundcolor": "#E5ECF6",
            "gridcolor": "white",
            "gridwidth": 2,
            "linecolor": "white",
            "showbackground": true,
            "ticks": "",
            "zerolinecolor": "white"
           },
           "yaxis": {
            "backgroundcolor": "#E5ECF6",
            "gridcolor": "white",
            "gridwidth": 2,
            "linecolor": "white",
            "showbackground": true,
            "ticks": "",
            "zerolinecolor": "white"
           },
           "zaxis": {
            "backgroundcolor": "#E5ECF6",
            "gridcolor": "white",
            "gridwidth": 2,
            "linecolor": "white",
            "showbackground": true,
            "ticks": "",
            "zerolinecolor": "white"
           }
          },
          "shapedefaults": {
           "line": {
            "color": "#2a3f5f"
           }
          },
          "ternary": {
           "aaxis": {
            "gridcolor": "white",
            "linecolor": "white",
            "ticks": ""
           },
           "baxis": {
            "gridcolor": "white",
            "linecolor": "white",
            "ticks": ""
           },
           "bgcolor": "#E5ECF6",
           "caxis": {
            "gridcolor": "white",
            "linecolor": "white",
            "ticks": ""
           }
          },
          "title": {
           "x": 0.05
          },
          "xaxis": {
           "automargin": true,
           "gridcolor": "white",
           "linecolor": "white",
           "ticks": "",
           "title": {
            "standoff": 15
           },
           "zerolinecolor": "white",
           "zerolinewidth": 2
          },
          "yaxis": {
           "automargin": true,
           "gridcolor": "white",
           "linecolor": "white",
           "ticks": "",
           "title": {
            "standoff": 15
           },
           "zerolinecolor": "white",
           "zerolinewidth": 2
          }
         }
        },
        "title": {
         "text": "Performance of 5 ML Models Using 10-Fold Cross-Validation Using 3 Victorizers"
        },
        "xaxis": {
         "title": {
          "text": "<b>ML Model and Type of Applied Victorizer </b>"
         }
        },
        "yaxis": {
         "title": {
          "text": "<b> Folds Accuracy % </b>"
         }
        }
       }
      },
      "text/html": [
       "<div>                            <div id=\"82be8ca6-808c-4723-a142-7e8e2abda06c\" class=\"plotly-graph-div\" style=\"height:525px; width:100%;\"></div>            <script type=\"text/javascript\">                require([\"plotly\"], function(Plotly) {                    window.PLOTLYENV=window.PLOTLYENV || {};                                    if (document.getElementById(\"82be8ca6-808c-4723-a142-7e8e2abda06c\")) {                    Plotly.newPlot(                        \"82be8ca6-808c-4723-a142-7e8e2abda06c\",                        [{\"boxpoints\": \"all\", \"jitter\": 0.8, \"line\": {\"width\": 2}, \"marker\": {\"size\": 5}, \"name\": \"Logisitc Regression Hashing Vectorizer\", \"type\": \"box\", \"whiskerwidth\": 0.9, \"y\": [80.67, 80.78, 81.93, 82.39, 82.49, 81.22, 81.68, 79.15, 77.88, 79.15]}, {\"boxpoints\": \"all\", \"jitter\": 0.8, \"line\": {\"width\": 2}, \"marker\": {\"size\": 5}, \"name\": \"Random Forest Hashing Vectorizer\", \"type\": \"box\", \"whiskerwidth\": 0.9, \"y\": [81.36, 80.78, 83.31, 83.66, 83.87, 79.61, 82.83, 79.84, 79.84, 80.07]}, {\"boxpoints\": \"all\", \"jitter\": 0.8, \"line\": {\"width\": 2}, \"marker\": {\"size\": 5}, \"name\": \"Support Vector Machine Hashing Vectorizer\", \"type\": \"box\", \"whiskerwidth\": 0.9, \"y\": [83.54, 82.97, 83.31, 85.62, 83.64, 83.06, 83.87, 81.22, 81.45, 80.18]}, {\"boxpoints\": \"all\", \"jitter\": 0.8, \"line\": {\"width\": 2}, \"marker\": {\"size\": 5}, \"name\": \"Naive Bayes Hashing Vectorizer\", \"type\": \"box\", \"whiskerwidth\": 0.9, \"y\": [79.98, 77.33, 72.04, 70.54, 80.99, 74.19, 79.84, 77.65, 77.07, 76.5]}, {\"boxpoints\": \"all\", \"jitter\": 0.8, \"line\": {\"width\": 2}, \"marker\": {\"size\": 5}, \"name\": \"SGD Hashing Vectorizer\", \"type\": \"box\", \"whiskerwidth\": 0.9, \"y\": [83.54, 84.12, 82.97, 85.62, 83.99, 82.95, 83.76, 80.65, 80.65, 80.18]}, {\"boxpoints\": \"all\", \"jitter\": 0.8, \"line\": {\"width\": 2}, \"marker\": {\"size\": 5}, \"name\": \"Logisitc Regression Count Vectorizer\", \"type\": \"box\", \"whiskerwidth\": 0.9, \"y\": [81.13, 80.9, 80.78, 81.24, 82.03, 80.3, 81.45, 77.42, 78.11, 80.07]}, {\"boxpoints\": \"all\", \"jitter\": 0.8, \"line\": {\"width\": 2}, \"marker\": {\"size\": 5}, \"name\": \"Random Forest Count Vectorizer\", \"type\": \"box\", \"whiskerwidth\": 0.9, \"y\": [78.6, 77.68, 79.75, 79.52, 79.84, 77.07, 78.23, 75.81, 76.5, 77.65]}, {\"boxpoints\": \"all\", \"jitter\": 0.8, \"line\": {\"width\": 2}, \"marker\": {\"size\": 5}, \"name\": \"Support Vector Machine Count Vectorizer\", \"type\": \"box\", \"whiskerwidth\": 0.9, \"y\": [78.14, 76.99, 78.25, 78.37, 79.95, 76.5, 80.76, 74.54, 75.23, 77.19]}, {\"boxpoints\": \"all\", \"jitter\": 0.8, \"line\": {\"width\": 2}, \"marker\": {\"size\": 5}, \"name\": \"Naive Bayes Count Vectorizer\", \"type\": \"box\", \"whiskerwidth\": 0.9, \"y\": [81.47, 81.47, 82.28, 81.59, 81.11, 78.8, 81.57, 78.57, 79.72, 79.15]}, {\"boxpoints\": \"all\", \"jitter\": 0.8, \"line\": {\"width\": 2}, \"marker\": {\"size\": 5}, \"name\": \"SGD Count Vectorizer\", \"type\": \"box\", \"whiskerwidth\": 0.9, \"y\": [80.44, 76.99, 77.45, 78.48, 78.92, 77.42, 80.3, 76.84, 76.73, 77.76]}, {\"boxpoints\": \"all\", \"jitter\": 0.8, \"line\": {\"width\": 2}, \"marker\": {\"size\": 5}, \"name\": \"Logisitc Regression TFIDF Vectorizer\", \"type\": \"box\", \"whiskerwidth\": 0.9, \"y\": [81.82, 82.05, 83.2, 82.39, 82.95, 82.14, 84.33, 80.18, 79.72, 79.72]}, {\"boxpoints\": \"all\", \"jitter\": 0.8, \"line\": {\"width\": 2}, \"marker\": {\"size\": 5}, \"name\": \"Random Forest TFIDF Vectorizer\", \"type\": \"box\", \"whiskerwidth\": 0.9, \"y\": [81.93, 79.4, 81.93, 81.13, 83.41, 78.0, 79.84, 77.65, 78.69, 78.23]}, {\"boxpoints\": \"all\", \"jitter\": 0.8, \"line\": {\"width\": 2}, \"marker\": {\"size\": 5}, \"name\": \"Support Vector Machine TFIDF Vectorizer\", \"type\": \"box\", \"whiskerwidth\": 0.9, \"y\": [84.23, 83.43, 84.35, 85.5, 85.6, 83.99, 84.68, 82.6, 81.45, 80.88]}, {\"boxpoints\": \"all\", \"jitter\": 0.8, \"line\": {\"width\": 2}, \"marker\": {\"size\": 5}, \"name\": \"Naive Bayes TFIDF Vectorizer\", \"type\": \"box\", \"whiskerwidth\": 0.9, \"y\": [84.58, 84.23, 85.39, 83.89, 83.76, 81.8, 83.18, 81.11, 81.8, 81.34]}, {\"boxpoints\": \"all\", \"jitter\": 0.8, \"line\": {\"width\": 2}, \"marker\": {\"size\": 5}, \"name\": \"SGD TFIDF Vectorizer\", \"type\": \"box\", \"whiskerwidth\": 0.9, \"y\": [83.89, 84.58, 84.23, 83.31, 85.02, 84.1, 83.87, 82.6, 81.68, 80.99]}],                        {\"paper_bgcolor\": \"rgb(243, 243, 243)\", \"plot_bgcolor\": \"rgb(243, 243, 243)\", \"showlegend\": false, \"template\": {\"data\": {\"bar\": [{\"error_x\": {\"color\": \"#2a3f5f\"}, \"error_y\": {\"color\": \"#2a3f5f\"}, \"marker\": {\"line\": {\"color\": \"#E5ECF6\", \"width\": 0.5}}, \"type\": \"bar\"}], \"barpolar\": [{\"marker\": {\"line\": {\"color\": \"#E5ECF6\", \"width\": 0.5}}, \"type\": \"barpolar\"}], \"carpet\": [{\"aaxis\": {\"endlinecolor\": \"#2a3f5f\", \"gridcolor\": \"white\", \"linecolor\": \"white\", \"minorgridcolor\": \"white\", \"startlinecolor\": \"#2a3f5f\"}, \"baxis\": {\"endlinecolor\": \"#2a3f5f\", \"gridcolor\": \"white\", \"linecolor\": \"white\", \"minorgridcolor\": \"white\", \"startlinecolor\": \"#2a3f5f\"}, \"type\": \"carpet\"}], \"choropleth\": [{\"colorbar\": {\"outlinewidth\": 0, \"ticks\": \"\"}, \"type\": \"choropleth\"}], \"contour\": [{\"colorbar\": {\"outlinewidth\": 0, \"ticks\": \"\"}, \"colorscale\": [[0.0, \"#0d0887\"], [0.1111111111111111, \"#46039f\"], [0.2222222222222222, \"#7201a8\"], [0.3333333333333333, \"#9c179e\"], [0.4444444444444444, \"#bd3786\"], [0.5555555555555556, \"#d8576b\"], [0.6666666666666666, \"#ed7953\"], [0.7777777777777778, \"#fb9f3a\"], [0.8888888888888888, \"#fdca26\"], [1.0, \"#f0f921\"]], \"type\": \"contour\"}], \"contourcarpet\": [{\"colorbar\": {\"outlinewidth\": 0, \"ticks\": \"\"}, \"type\": \"contourcarpet\"}], \"heatmap\": [{\"colorbar\": {\"outlinewidth\": 0, \"ticks\": \"\"}, \"colorscale\": [[0.0, \"#0d0887\"], [0.1111111111111111, \"#46039f\"], [0.2222222222222222, \"#7201a8\"], [0.3333333333333333, \"#9c179e\"], [0.4444444444444444, \"#bd3786\"], [0.5555555555555556, \"#d8576b\"], [0.6666666666666666, \"#ed7953\"], [0.7777777777777778, \"#fb9f3a\"], [0.8888888888888888, \"#fdca26\"], [1.0, \"#f0f921\"]], \"type\": \"heatmap\"}], \"heatmapgl\": [{\"colorbar\": {\"outlinewidth\": 0, \"ticks\": \"\"}, \"colorscale\": [[0.0, \"#0d0887\"], [0.1111111111111111, \"#46039f\"], [0.2222222222222222, \"#7201a8\"], [0.3333333333333333, \"#9c179e\"], [0.4444444444444444, \"#bd3786\"], [0.5555555555555556, \"#d8576b\"], [0.6666666666666666, \"#ed7953\"], [0.7777777777777778, \"#fb9f3a\"], [0.8888888888888888, \"#fdca26\"], [1.0, \"#f0f921\"]], \"type\": \"heatmapgl\"}], \"histogram\": [{\"marker\": {\"colorbar\": {\"outlinewidth\": 0, \"ticks\": \"\"}}, \"type\": \"histogram\"}], \"histogram2d\": [{\"colorbar\": {\"outlinewidth\": 0, \"ticks\": \"\"}, \"colorscale\": [[0.0, \"#0d0887\"], [0.1111111111111111, \"#46039f\"], [0.2222222222222222, \"#7201a8\"], [0.3333333333333333, \"#9c179e\"], [0.4444444444444444, \"#bd3786\"], [0.5555555555555556, \"#d8576b\"], [0.6666666666666666, \"#ed7953\"], [0.7777777777777778, \"#fb9f3a\"], [0.8888888888888888, \"#fdca26\"], [1.0, \"#f0f921\"]], \"type\": \"histogram2d\"}], \"histogram2dcontour\": [{\"colorbar\": {\"outlinewidth\": 0, \"ticks\": \"\"}, \"colorscale\": [[0.0, \"#0d0887\"], [0.1111111111111111, \"#46039f\"], [0.2222222222222222, \"#7201a8\"], [0.3333333333333333, \"#9c179e\"], [0.4444444444444444, \"#bd3786\"], [0.5555555555555556, \"#d8576b\"], [0.6666666666666666, \"#ed7953\"], [0.7777777777777778, \"#fb9f3a\"], [0.8888888888888888, \"#fdca26\"], [1.0, \"#f0f921\"]], \"type\": \"histogram2dcontour\"}], \"mesh3d\": [{\"colorbar\": {\"outlinewidth\": 0, \"ticks\": \"\"}, \"type\": \"mesh3d\"}], \"parcoords\": [{\"line\": {\"colorbar\": {\"outlinewidth\": 0, \"ticks\": \"\"}}, \"type\": \"parcoords\"}], \"pie\": [{\"automargin\": true, \"type\": \"pie\"}], \"scatter\": [{\"marker\": {\"colorbar\": {\"outlinewidth\": 0, \"ticks\": \"\"}}, \"type\": \"scatter\"}], \"scatter3d\": [{\"line\": {\"colorbar\": {\"outlinewidth\": 0, \"ticks\": \"\"}}, \"marker\": {\"colorbar\": {\"outlinewidth\": 0, \"ticks\": \"\"}}, \"type\": \"scatter3d\"}], \"scattercarpet\": [{\"marker\": {\"colorbar\": {\"outlinewidth\": 0, \"ticks\": \"\"}}, \"type\": \"scattercarpet\"}], \"scattergeo\": [{\"marker\": {\"colorbar\": {\"outlinewidth\": 0, \"ticks\": \"\"}}, \"type\": \"scattergeo\"}], \"scattergl\": [{\"marker\": {\"colorbar\": {\"outlinewidth\": 0, \"ticks\": \"\"}}, \"type\": \"scattergl\"}], \"scattermapbox\": [{\"marker\": {\"colorbar\": {\"outlinewidth\": 0, \"ticks\": \"\"}}, \"type\": \"scattermapbox\"}], \"scatterpolar\": [{\"marker\": {\"colorbar\": {\"outlinewidth\": 0, \"ticks\": \"\"}}, \"type\": \"scatterpolar\"}], \"scatterpolargl\": [{\"marker\": {\"colorbar\": {\"outlinewidth\": 0, \"ticks\": \"\"}}, \"type\": \"scatterpolargl\"}], \"scatterternary\": [{\"marker\": {\"colorbar\": {\"outlinewidth\": 0, \"ticks\": \"\"}}, \"type\": \"scatterternary\"}], \"surface\": [{\"colorbar\": {\"outlinewidth\": 0, \"ticks\": \"\"}, \"colorscale\": [[0.0, \"#0d0887\"], [0.1111111111111111, \"#46039f\"], [0.2222222222222222, \"#7201a8\"], [0.3333333333333333, \"#9c179e\"], [0.4444444444444444, \"#bd3786\"], [0.5555555555555556, \"#d8576b\"], [0.6666666666666666, \"#ed7953\"], [0.7777777777777778, \"#fb9f3a\"], [0.8888888888888888, \"#fdca26\"], [1.0, \"#f0f921\"]], \"type\": \"surface\"}], \"table\": [{\"cells\": {\"fill\": {\"color\": \"#EBF0F8\"}, \"line\": {\"color\": \"white\"}}, \"header\": {\"fill\": {\"color\": \"#C8D4E3\"}, \"line\": {\"color\": \"white\"}}, \"type\": \"table\"}]}, \"layout\": {\"annotationdefaults\": {\"arrowcolor\": \"#2a3f5f\", \"arrowhead\": 0, \"arrowwidth\": 1}, \"autotypenumbers\": \"strict\", \"coloraxis\": {\"colorbar\": {\"outlinewidth\": 0, \"ticks\": \"\"}}, \"colorscale\": {\"diverging\": [[0, \"#8e0152\"], [0.1, \"#c51b7d\"], [0.2, \"#de77ae\"], [0.3, \"#f1b6da\"], [0.4, \"#fde0ef\"], [0.5, \"#f7f7f7\"], [0.6, \"#e6f5d0\"], [0.7, \"#b8e186\"], [0.8, \"#7fbc41\"], [0.9, \"#4d9221\"], [1, \"#276419\"]], \"sequential\": [[0.0, \"#0d0887\"], [0.1111111111111111, \"#46039f\"], [0.2222222222222222, \"#7201a8\"], [0.3333333333333333, \"#9c179e\"], [0.4444444444444444, \"#bd3786\"], [0.5555555555555556, \"#d8576b\"], [0.6666666666666666, \"#ed7953\"], [0.7777777777777778, \"#fb9f3a\"], [0.8888888888888888, \"#fdca26\"], [1.0, \"#f0f921\"]], \"sequentialminus\": [[0.0, \"#0d0887\"], [0.1111111111111111, \"#46039f\"], [0.2222222222222222, \"#7201a8\"], [0.3333333333333333, \"#9c179e\"], [0.4444444444444444, \"#bd3786\"], [0.5555555555555556, \"#d8576b\"], [0.6666666666666666, \"#ed7953\"], [0.7777777777777778, \"#fb9f3a\"], [0.8888888888888888, \"#fdca26\"], [1.0, \"#f0f921\"]]}, \"colorway\": [\"#636efa\", \"#EF553B\", \"#00cc96\", \"#ab63fa\", \"#FFA15A\", \"#19d3f3\", \"#FF6692\", \"#B6E880\", \"#FF97FF\", \"#FECB52\"], \"font\": {\"color\": \"#2a3f5f\"}, \"geo\": {\"bgcolor\": \"white\", \"lakecolor\": \"white\", \"landcolor\": \"#E5ECF6\", \"showlakes\": true, \"showland\": true, \"subunitcolor\": \"white\"}, \"hoverlabel\": {\"align\": \"left\"}, \"hovermode\": \"closest\", \"mapbox\": {\"style\": \"light\"}, \"paper_bgcolor\": \"white\", \"plot_bgcolor\": \"#E5ECF6\", \"polar\": {\"angularaxis\": {\"gridcolor\": \"white\", \"linecolor\": \"white\", \"ticks\": \"\"}, \"bgcolor\": \"#E5ECF6\", \"radialaxis\": {\"gridcolor\": \"white\", \"linecolor\": \"white\", \"ticks\": \"\"}}, \"scene\": {\"xaxis\": {\"backgroundcolor\": \"#E5ECF6\", \"gridcolor\": \"white\", \"gridwidth\": 2, \"linecolor\": \"white\", \"showbackground\": true, \"ticks\": \"\", \"zerolinecolor\": \"white\"}, \"yaxis\": {\"backgroundcolor\": \"#E5ECF6\", \"gridcolor\": \"white\", \"gridwidth\": 2, \"linecolor\": \"white\", \"showbackground\": true, \"ticks\": \"\", \"zerolinecolor\": \"white\"}, \"zaxis\": {\"backgroundcolor\": \"#E5ECF6\", \"gridcolor\": \"white\", \"gridwidth\": 2, \"linecolor\": \"white\", \"showbackground\": true, \"ticks\": \"\", \"zerolinecolor\": \"white\"}}, \"shapedefaults\": {\"line\": {\"color\": \"#2a3f5f\"}}, \"ternary\": {\"aaxis\": {\"gridcolor\": \"white\", \"linecolor\": \"white\", \"ticks\": \"\"}, \"baxis\": {\"gridcolor\": \"white\", \"linecolor\": \"white\", \"ticks\": \"\"}, \"bgcolor\": \"#E5ECF6\", \"caxis\": {\"gridcolor\": \"white\", \"linecolor\": \"white\", \"ticks\": \"\"}}, \"title\": {\"x\": 0.05}, \"xaxis\": {\"automargin\": true, \"gridcolor\": \"white\", \"linecolor\": \"white\", \"ticks\": \"\", \"title\": {\"standoff\": 15}, \"zerolinecolor\": \"white\", \"zerolinewidth\": 2}, \"yaxis\": {\"automargin\": true, \"gridcolor\": \"white\", \"linecolor\": \"white\", \"ticks\": \"\", \"title\": {\"standoff\": 15}, \"zerolinecolor\": \"white\", \"zerolinewidth\": 2}}}, \"title\": {\"text\": \"Performance of 5 ML Models Using 10-Fold Cross-Validation Using 3 Victorizers\"}, \"xaxis\": {\"title\": {\"text\": \"<b>ML Model and Type of Applied Victorizer </b>\"}}, \"yaxis\": {\"title\": {\"text\": \"<b> Folds Accuracy % </b>\"}}},                        {\"responsive\": true}                    ).then(function(){\n",
       "                            \n",
       "var gd = document.getElementById('82be8ca6-808c-4723-a142-7e8e2abda06c');\n",
       "var x = new MutationObserver(function (mutations, observer) {{\n",
       "        var display = window.getComputedStyle(gd).display;\n",
       "        if (!display || display === 'none') {{\n",
       "            console.log([gd, 'removed!']);\n",
       "            Plotly.purge(gd);\n",
       "            observer.disconnect();\n",
       "        }}\n",
       "}});\n",
       "\n",
       "// Listen for the removal of the full notebook cells\n",
       "var notebookContainer = gd.closest('#notebook-container');\n",
       "if (notebookContainer) {{\n",
       "    x.observe(notebookContainer, {childList: true});\n",
       "}}\n",
       "\n",
       "// Listen for the clearing of the current output cell\n",
       "var outputEl = gd.closest('.output');\n",
       "if (outputEl) {{\n",
       "    x.observe(outputEl, {childList: true});\n",
       "}}\n",
       "\n",
       "                        })                };                });            </script>        </div>"
      ]
     },
     "metadata": {},
     "output_type": "display_data"
    }
   ],
   "source": [
    "resutls_visulization(models_accuracy)"
   ]
  }
 ],
 "metadata": {
  "kernelspec": {
   "display_name": "Python 3",
   "language": "python",
   "name": "python3"
  },
  "language_info": {
   "codemirror_mode": {
    "name": "ipython",
    "version": 3
   },
   "file_extension": ".py",
   "mimetype": "text/x-python",
   "name": "python",
   "nbconvert_exporter": "python",
   "pygments_lexer": "ipython3",
   "version": "3.8.5"
  }
 },
 "nbformat": 4,
 "nbformat_minor": 4
}
