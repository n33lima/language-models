{
 "cells": [
  {
   "cell_type": "code",
   "execution_count": 5,
   "metadata": {},
   "outputs": [],
   "source": [
    "import numpy as np\n",
    "import pandas as pd\n",
    "from sklearn.model_selection import train_test_split\n",
    "import datetime,time\n",
    "from sklearn.metrics import accuracy_score,confusion_matrix,classification_report\n",
    "import matplotlib.pyplot as plt\n",
    "from sklearn.linear_model import LogisticRegression,LogisticRegressionCV,SGDClassifier\n",
    "from sklearn.naive_bayes import BernoulliNB\n",
    "from sklearn.ensemble import RandomForestClassifier\n",
    "from sklearn.feature_extraction.text import CountVectorizer, TfidfVectorizer,TfidfTransformer, HashingVectorizer\n",
    "from sklearn.model_selection import KFold\n",
    "from sklearn.pipeline import Pipeline\n",
    "import plotly.graph_objects as go\n",
    "from plotly.subplots import make_subplots\n",
    "from sklearn.svm import SVC\n",
    "import math\n",
    "import statistics\n",
    "from collections import defaultdict\n",
    "from imblearn import over_sampling\n",
    "from imblearn.over_sampling import SVMSMOTE\n",
    "import re\n"
   ]
  },
  {
   "cell_type": "code",
   "execution_count": 23,
   "metadata": {},
   "outputs": [
    {
     "name": "stdout",
     "output_type": "stream",
     "text": [
      "....................................Results without Cross Validation...............................\n",
      "\n",
      "...........Results for Hashing Vectorizer..........\n",
      "\n",
      "-----------------\n",
      "Model: Logisitc Regression\n",
      "[[1073  238]\n",
      " [ 288 1007]]\n",
      "              precision    recall  f1-score   support\n",
      "\n",
      "           0       0.79      0.82      0.80      1311\n",
      "           1       0.81      0.78      0.79      1295\n",
      "\n",
      "    accuracy                           0.80      2606\n",
      "   macro avg       0.80      0.80      0.80      2606\n",
      "weighted avg       0.80      0.80      0.80      2606\n",
      "\n",
      "\n",
      "Accuracy on Training:\n",
      "86.62 %\n",
      "\n",
      "Accuracy on Testing:\n",
      "79.82 %\n",
      "\n",
      "Time taken to build the model is 0.44 Seconds\n",
      "\n",
      "Time taken for prediction is 0.00 Seconds\n",
      "\n",
      "-----------------\n",
      "Model: Random Forest\n",
      "[[1186  125]\n",
      " [ 352  943]]\n",
      "              precision    recall  f1-score   support\n",
      "\n",
      "           0       0.77      0.90      0.83      1311\n",
      "           1       0.88      0.73      0.80      1295\n",
      "\n",
      "    accuracy                           0.82      2606\n",
      "   macro avg       0.83      0.82      0.82      2606\n",
      "weighted avg       0.83      0.82      0.82      2606\n",
      "\n",
      "\n",
      "Accuracy on Training:\n",
      "95.33 %\n",
      "\n",
      "Accuracy on Testing:\n",
      "81.70 %\n",
      "\n",
      "Time taken to build the model is 6.81 Seconds\n",
      "\n",
      "Time taken for prediction is 0.22 Seconds\n",
      "\n",
      "-----------------\n",
      "Model: Support Vector_Machine\n",
      "[[1153  158]\n",
      " [ 307  988]]\n",
      "              precision    recall  f1-score   support\n",
      "\n",
      "           0       0.79      0.88      0.83      1311\n",
      "           1       0.86      0.76      0.81      1295\n",
      "\n",
      "    accuracy                           0.82      2606\n",
      "   macro avg       0.83      0.82      0.82      2606\n",
      "weighted avg       0.83      0.82      0.82      2606\n",
      "\n",
      "\n",
      "Accuracy on Training:\n",
      "95.94 %\n",
      "\n",
      "Accuracy on Testing:\n",
      "82.16 %\n",
      "\n",
      "Time taken to build the model is 5.55 Seconds\n",
      "\n",
      "Time taken for prediction is 2.11 Seconds\n",
      "\n",
      "-----------------\n",
      "Model: Bernoulli Naive Bayes\n",
      "[[1010  301]\n",
      " [ 242 1053]]\n",
      "              precision    recall  f1-score   support\n",
      "\n",
      "           0       0.81      0.77      0.79      1311\n",
      "           1       0.78      0.81      0.80      1295\n",
      "\n",
      "    accuracy                           0.79      2606\n",
      "   macro avg       0.79      0.79      0.79      2606\n",
      "weighted avg       0.79      0.79      0.79      2606\n",
      "\n",
      "\n",
      "Accuracy on Training:\n",
      "89.75 %\n",
      "\n",
      "Accuracy on Testing:\n",
      "79.16 %\n",
      "\n",
      "Time taken to build the model is 0.06 Seconds\n",
      "\n",
      "Time taken for prediction is 0.06 Seconds\n",
      "\n",
      "-----------------\n",
      "Model: SGD\n",
      "[[1107  204]\n",
      " [ 254 1041]]\n",
      "              precision    recall  f1-score   support\n",
      "\n",
      "           0       0.81      0.84      0.83      1311\n",
      "           1       0.84      0.80      0.82      1295\n",
      "\n",
      "    accuracy                           0.82      2606\n",
      "   macro avg       0.82      0.82      0.82      2606\n",
      "weighted avg       0.82      0.82      0.82      2606\n",
      "\n",
      "\n",
      "Accuracy on Training:\n",
      "93.70 %\n",
      "\n",
      "Accuracy on Testing:\n",
      "82.43 %\n",
      "\n",
      "Time taken to build the model is 0.08 Seconds\n",
      "\n",
      "Time taken for prediction is 0.00 Seconds\n",
      "\n",
      "...........Results for Count Vectorizer..........\n",
      "\n",
      "-----------------\n",
      "Model: Logisitc Regression\n",
      "[[1057  254]\n",
      " [ 254 1041]]\n",
      "              precision    recall  f1-score   support\n",
      "\n",
      "           0       0.81      0.81      0.81      1311\n",
      "           1       0.80      0.80      0.80      1295\n",
      "\n",
      "    accuracy                           0.81      2606\n",
      "   macro avg       0.81      0.81      0.81      2606\n",
      "weighted avg       0.81      0.81      0.81      2606\n",
      "\n",
      "\n",
      "Accuracy on Training:\n",
      "96.56 %\n",
      "\n",
      "Accuracy on Testing:\n",
      "80.51 %\n",
      "\n",
      "Time taken to build the model is 0.05 Seconds\n",
      "\n",
      "Time taken for prediction is 0.00 Seconds\n",
      "\n",
      "-----------------\n",
      "Model: Random Forest\n",
      "[[1144  167]\n",
      " [ 366  929]]\n",
      "              precision    recall  f1-score   support\n",
      "\n",
      "           0       0.76      0.87      0.81      1311\n",
      "           1       0.85      0.72      0.78      1295\n",
      "\n",
      "    accuracy                           0.80      2606\n",
      "   macro avg       0.80      0.79      0.79      2606\n",
      "weighted avg       0.80      0.80      0.79      2606\n",
      "\n",
      "\n",
      "Accuracy on Training:\n",
      "95.13 %\n",
      "\n",
      "Accuracy on Testing:\n",
      "79.55 %\n",
      "\n",
      "Time taken to build the model is 3.59 Seconds\n",
      "\n",
      "Time taken for prediction is 0.08 Seconds\n",
      "\n",
      "-----------------\n",
      "Model: Support Vector_Machine\n",
      "[[1142  169]\n",
      " [ 349  946]]\n",
      "              precision    recall  f1-score   support\n",
      "\n",
      "           0       0.77      0.87      0.82      1311\n",
      "           1       0.85      0.73      0.79      1295\n",
      "\n",
      "    accuracy                           0.80      2606\n",
      "   macro avg       0.81      0.80      0.80      2606\n",
      "weighted avg       0.81      0.80      0.80      2606\n",
      "\n",
      "\n",
      "Accuracy on Training:\n",
      "94.13 %\n",
      "\n",
      "Accuracy on Testing:\n",
      "80.12 %\n",
      "\n",
      "Time taken to build the model is 5.14 Seconds\n",
      "\n",
      "Time taken for prediction is 2.00 Seconds\n",
      "\n",
      "-----------------\n",
      "Model: Bernoulli Naive Bayes\n",
      "[[1140  171]\n",
      " [ 316  979]]\n",
      "              precision    recall  f1-score   support\n",
      "\n",
      "           0       0.78      0.87      0.82      1311\n",
      "           1       0.85      0.76      0.80      1295\n",
      "\n",
      "    accuracy                           0.81      2606\n",
      "   macro avg       0.82      0.81      0.81      2606\n",
      "weighted avg       0.82      0.81      0.81      2606\n",
      "\n",
      "\n",
      "Accuracy on Training:\n",
      "90.08 %\n",
      "\n",
      "Accuracy on Testing:\n",
      "81.31 %\n",
      "\n",
      "Time taken to build the model is 0.01 Seconds\n",
      "\n",
      "Time taken for prediction is 0.00 Seconds\n",
      "\n",
      "-----------------\n",
      "Model: SGD\n",
      "[[ 933  378]\n",
      " [ 211 1084]]\n",
      "              precision    recall  f1-score   support\n",
      "\n",
      "           0       0.82      0.71      0.76      1311\n",
      "           1       0.74      0.84      0.79      1295\n",
      "\n",
      "    accuracy                           0.77      2606\n",
      "   macro avg       0.78      0.77      0.77      2606\n",
      "weighted avg       0.78      0.77      0.77      2606\n",
      "\n",
      "\n",
      "Accuracy on Training:\n",
      "99.61 %\n",
      "\n",
      "Accuracy on Testing:\n",
      "77.40 %\n",
      "\n",
      "Time taken to build the model is 0.03 Seconds\n",
      "\n",
      "Time taken for prediction is 0.00 Seconds\n",
      "\n",
      "...........Results for TFIDF Vectorizer..........\n",
      "\n",
      "-----------------\n",
      "Model: Logisitc Regression\n",
      "[[1109  202]\n",
      " [ 273 1022]]\n",
      "              precision    recall  f1-score   support\n",
      "\n",
      "           0       0.80      0.85      0.82      1311\n",
      "           1       0.83      0.79      0.81      1295\n",
      "\n",
      "    accuracy                           0.82      2606\n",
      "   macro avg       0.82      0.82      0.82      2606\n",
      "weighted avg       0.82      0.82      0.82      2606\n",
      "\n",
      "\n",
      "Accuracy on Training:\n",
      "90.49 %\n",
      "\n",
      "Accuracy on Testing:\n",
      "81.77 %\n",
      "\n",
      "Time taken to build the model is 0.02 Seconds\n",
      "\n",
      "Time taken for prediction is 0.00 Seconds\n",
      "\n",
      "-----------------\n",
      "Model: Random Forest\n",
      "[[1163  148]\n",
      " [ 351  944]]\n",
      "              precision    recall  f1-score   support\n",
      "\n",
      "           0       0.77      0.89      0.82      1311\n",
      "           1       0.86      0.73      0.79      1295\n",
      "\n",
      "    accuracy                           0.81      2606\n",
      "   macro avg       0.82      0.81      0.81      2606\n",
      "weighted avg       0.82      0.81      0.81      2606\n",
      "\n",
      "\n",
      "Accuracy on Training:\n",
      "96.22 %\n",
      "\n",
      "Accuracy on Testing:\n",
      "80.85 %\n",
      "\n",
      "Time taken to build the model is 3.41 Seconds\n",
      "\n",
      "Time taken for prediction is 0.07 Seconds\n",
      "\n",
      "-----------------\n",
      "Model: Support Vector_Machine\n",
      "[[1188  123]\n",
      " [ 286 1009]]\n",
      "              precision    recall  f1-score   support\n",
      "\n",
      "           0       0.81      0.91      0.85      1311\n",
      "           1       0.89      0.78      0.83      1295\n",
      "\n",
      "    accuracy                           0.84      2606\n",
      "   macro avg       0.85      0.84      0.84      2606\n",
      "weighted avg       0.85      0.84      0.84      2606\n",
      "\n",
      "\n",
      "Accuracy on Training:\n",
      "97.73 %\n",
      "\n",
      "Accuracy on Testing:\n",
      "84.31 %\n",
      "\n",
      "Time taken to build the model is 6.49 Seconds\n",
      "\n",
      "Time taken for prediction is 2.25 Seconds\n",
      "\n",
      "-----------------\n",
      "Model: Bernoulli Naive Bayes\n",
      "[[1165  146]\n",
      " [ 273 1022]]\n",
      "              precision    recall  f1-score   support\n",
      "\n",
      "           0       0.81      0.89      0.85      1311\n",
      "           1       0.88      0.79      0.83      1295\n",
      "\n",
      "    accuracy                           0.84      2606\n",
      "   macro avg       0.84      0.84      0.84      2606\n",
      "weighted avg       0.84      0.84      0.84      2606\n",
      "\n",
      "\n",
      "Accuracy on Training:\n",
      "92.00 %\n",
      "\n",
      "Accuracy on Testing:\n",
      "83.92 %\n",
      "\n",
      "Time taken to build the model is 0.00 Seconds\n",
      "\n",
      "Time taken for prediction is 0.00 Seconds\n",
      "\n",
      "-----------------\n",
      "Model: SGD\n",
      "[[1128  183]\n",
      " [ 248 1047]]\n",
      "              precision    recall  f1-score   support\n",
      "\n",
      "           0       0.82      0.86      0.84      1311\n",
      "           1       0.85      0.81      0.83      1295\n",
      "\n",
      "    accuracy                           0.83      2606\n",
      "   macro avg       0.84      0.83      0.83      2606\n",
      "weighted avg       0.84      0.83      0.83      2606\n",
      "\n",
      "\n",
      "Accuracy on Training:\n",
      "96.96 %\n",
      "\n",
      "Accuracy on Testing:\n",
      "83.46 %\n",
      "\n",
      "Time taken to build the model is 0.02 Seconds\n",
      "\n",
      "Time taken for prediction is 0.00 Seconds\n"
     ]
    }
   ],
   "source": [
    "# the final 5 classical ML models with the best found paramters with 3 victorizers \n",
    "#Over Sample is applied here and the code prodcues results of each method using all vectorizers\n",
    "\n",
    "data=pd.read_csv('/Users/joe/Desktop/language-models-sprint1/data/train.csv')\n",
    "X = data['text']\n",
    "y = data['target']\n",
    "\n",
    "\n",
    "# different Vectorizers\n",
    "def Hash_vec(X):\n",
    "    Hvect=HashingVectorizer(lowercase=True,ngram_range=(1,1))\n",
    "    X=Hvect.fit_transform(X)\n",
    "    \n",
    "    return X\n",
    "\n",
    "def Count_Vec(X):\n",
    "    CountV=CountVectorizer(lowercase=True)\n",
    "    X=CountV.fit_transform(X)\n",
    "    \n",
    "    return X\n",
    "\n",
    "def TFIDF_vec(X):\n",
    "    tfidf=TfidfVectorizer(use_idf=True,lowercase=True)\n",
    "    X=tfidf.fit_transform(X)\n",
    "    \n",
    "    return X\n",
    "\n",
    "# oversample the target class\n",
    "def overSample(X,y):\n",
    "    \n",
    "    oversample = SVMSMOTE(n_jobs=-1,random_state=47)\n",
    "    X, y = oversample.fit_resample(X, y)\n",
    "    \n",
    "    return X,y\n",
    "\n",
    "\n",
    "\n",
    "# 5 ML methods with their best found parameters \n",
    "LG=LogisticRegression(solver='liblinear',penalty='l2')\n",
    "RF=RandomForestClassifier(n_estimators=220,n_jobs=-1,max_depth=100)\n",
    "\n",
    "SVM=SVC(kernel='rbf')\n",
    "\n",
    "SGD=SGDClassifier(n_jobs=-1,loss='hinge',penalty='l2',validation_fraction=0.1)\n",
    "\n",
    "NB=BernoulliNB(alpha=0.7)\n",
    "          \n",
    "    \n",
    "# list of the used vectorizers          \n",
    "list_of_Vectorizers = {'Hashing Vectorizer':Hash_vec,'Count Vectorizer':Count_Vec,\n",
    "                       'TFIDF Vectorizer':TFIDF_vec}\n",
    "\n",
    "# list of the used models\n",
    "list_of_models = {'Logisitc Regression':LG,'Random Forest':RF,'Support Vector_Machine':SVM,\n",
    "                  'Bernoulli Naive Bayes':NB,\n",
    "                  'SGD':SGD}\n",
    "\n",
    "\n",
    "models_accuracy = defaultdict()\n",
    "models_built_time=defaultdict()\n",
    "models_prediction_time=defaultdict()\n",
    "\n",
    "\n",
    "print(\"....................................Results without Cross Validation...............................\")\n",
    "def get_Model_results(models,vectorizers,X,y):\n",
    "    \n",
    "    for Vectorizer_name, vectorizer in vectorizers.items():\n",
    "        print('\\n...........Results for {}..........'.format(Vectorizer_name))\n",
    "        X_vec=vectorizer(X)\n",
    "        X_samp,y_samp=overSample(X_vec,y)\n",
    "\n",
    "        X_train, X_test, y_train, y_test = train_test_split(X_samp, y_samp, test_size=0.30, random_state=42)\n",
    "        \n",
    "        for model_name, model in models.items():\n",
    "            start_time =  time.time()%60\n",
    "            text_clf = model.fit(X_train, y_train)\n",
    "            end_time= time.time()%60\n",
    "\n",
    "            if(end_time>start_time):\n",
    "                time_to_build_the_model='%.2f' %(end_time-start_time)\n",
    "            else:\n",
    "                time_to_build_the_model='%.2f' %(start_time-end_time)\n",
    "\n",
    "\n",
    "            start_time = time.time()%60\n",
    "            predicted = text_clf.predict(X_test)\n",
    "            end_time= time.time()%60\n",
    "\n",
    "            if(end_time>start_time):\n",
    "                time_to_predict='%.2f' %(end_time-start_time)\n",
    "            else:\n",
    "                time_to_predict='%.2f' %(start_time-end_time)\n",
    "\n",
    "\n",
    "            print('\\n-----------------\\nModel: {}'.format(model_name))\n",
    "            print(confusion_matrix(y_test,predicted))\n",
    "            print(classification_report(y_test,predicted))\n",
    "            print('\\nAccuracy on Training:\\n{00:.2f} %'.format(text_clf.score(X_train,y_train)*100))\n",
    "\n",
    "            print('\\nAccuracy on Testing:\\n{00:.2f} %'.format(accuracy_score(y_test,predicted)*100))\n",
    "\n",
    "            print('\\nTime taken to build the model is {} Seconds'.format(time_to_build_the_model))\n",
    "            print('\\nTime taken for prediction is {} Seconds'.format(time_to_predict))\n",
    "\n",
    "\n",
    "\n",
    "get_Model_results(list_of_models,list_of_Vectorizers,X,y)"
   ]
  },
  {
   "cell_type": "code",
   "execution_count": 19,
   "metadata": {},
   "outputs": [
    {
     "name": "stdout",
     "output_type": "stream",
     "text": [
      "....................................Results with 10-Fold Cross Validation...............................\n",
      "\n",
      "...........Results for Hashing Vectorizer..........\n",
      "\n",
      "--------------------------------------\n",
      "Model: Logisitc Regression\n",
      "\n",
      "Mean Accuracy on Training\n",
      "\n",
      "86.75\n",
      "\n",
      "Mean Accuracy on Testing\n",
      "\n",
      "80.73\n",
      "\n",
      " Average Time taken to build the model is 0.54 Seconds\n",
      "\n",
      " Average Time taken to predict is 0.00 Seconds\n",
      "\n",
      "--------------------------------------\n",
      "Model: Random Forest\n",
      "\n",
      "Mean Accuracy on Training\n",
      "\n",
      "94.97\n",
      "\n",
      "Mean Accuracy on Testing\n",
      "\n",
      "82.09\n",
      "\n",
      " Average Time taken to build the model is 15.92 Seconds\n",
      "\n",
      " Average Time taken to predict is 0.17 Seconds\n",
      "\n",
      "--------------------------------------\n",
      "Model: Support Vector_Machine\n",
      "\n",
      "Mean Accuracy on Training\n",
      "\n",
      "95.83\n",
      "\n",
      "Mean Accuracy on Testing\n",
      "\n",
      "83.44\n",
      "\n",
      " Average Time taken to build the model is 17.38 Seconds\n",
      "\n",
      " Average Time taken to predict is 0.87 Seconds\n",
      "\n",
      "--------------------------------------\n",
      "Model: Bernoulli Naive Bayes\n",
      "\n",
      "Mean Accuracy on Training\n",
      "\n",
      "87.68\n",
      "\n",
      "Mean Accuracy on Testing\n",
      "\n",
      "78.52\n",
      "\n",
      " Average Time taken to build the model is 0.04 Seconds\n",
      "\n",
      " Average Time taken to predict is 0.06 Seconds\n",
      "\n",
      "--------------------------------------\n",
      "Model: SGD\n",
      "\n",
      "Mean Accuracy on Training\n",
      "\n",
      "92.01\n",
      "\n",
      "Mean Accuracy on Testing\n",
      "\n",
      "83.05\n",
      "\n",
      " Average Time taken to build the model is 0.07 Seconds\n",
      "\n",
      " Average Time taken to predict is 0.00 Seconds\n",
      "\n",
      "...........Results for Count Vectorizer..........\n",
      "\n",
      "--------------------------------------\n",
      "Model: Logisitc Regression\n",
      "\n",
      "Mean Accuracy on Training\n",
      "\n",
      "96.24\n",
      "\n",
      "Mean Accuracy on Testing\n",
      "\n",
      "80.34\n",
      "\n",
      " Average Time taken to build the model is 0.06 Seconds\n",
      "\n",
      " Average Time taken to predict is 0.00 Seconds\n",
      "\n",
      "--------------------------------------\n",
      "Model: Random Forest\n",
      "\n",
      "Mean Accuracy on Training\n",
      "\n",
      "94.60\n",
      "\n",
      "Mean Accuracy on Testing\n",
      "\n",
      "78.43\n",
      "\n",
      " Average Time taken to build the model is 5.20 Seconds\n",
      "\n",
      " Average Time taken to predict is 0.05 Seconds\n",
      "\n",
      "--------------------------------------\n",
      "Model: Support Vector_Machine\n",
      "\n",
      "Mean Accuracy on Training\n",
      "\n",
      "93.62\n",
      "\n",
      "Mean Accuracy on Testing\n",
      "\n",
      "80.11\n",
      "\n",
      " Average Time taken to build the model is 17.12 Seconds\n",
      "\n",
      " Average Time taken to predict is 0.84 Seconds\n",
      "\n",
      "--------------------------------------\n",
      "Model: Bernoulli Naive Bayes\n",
      "\n",
      "Mean Accuracy on Training\n",
      "\n",
      "89.90\n",
      "\n",
      "Mean Accuracy on Testing\n",
      "\n",
      "80.64\n",
      "\n",
      " Average Time taken to build the model is 0.00 Seconds\n",
      "\n",
      " Average Time taken to predict is 0.00 Seconds\n",
      "\n",
      "--------------------------------------\n",
      "Model: SGD\n",
      "\n",
      "Mean Accuracy on Training\n",
      "\n",
      "99.43\n",
      "\n",
      "Mean Accuracy on Testing\n",
      "\n",
      "78.27\n",
      "\n",
      " Average Time taken to build the model is 0.04 Seconds\n",
      "\n",
      " Average Time taken to predict is 0.00 Seconds\n",
      "\n",
      "...........Results for TFIDF Vectorizer..........\n",
      "\n",
      "--------------------------------------\n",
      "Model: Logisitc Regression\n",
      "\n",
      "Mean Accuracy on Training\n",
      "\n",
      "90.47\n",
      "\n",
      "Mean Accuracy on Testing\n",
      "\n",
      "81.85\n",
      "\n",
      " Average Time taken to build the model is 0.02 Seconds\n",
      "\n",
      " Average Time taken to predict is 0.00 Seconds\n",
      "\n",
      "--------------------------------------\n",
      "Model: Random Forest\n",
      "\n",
      "Mean Accuracy on Training\n",
      "\n",
      "95.71\n",
      "\n",
      "Mean Accuracy on Testing\n",
      "\n",
      "81.23\n",
      "\n",
      " Average Time taken to build the model is 10.43 Seconds\n",
      "\n",
      " Average Time taken to predict is 0.06 Seconds\n",
      "\n",
      "--------------------------------------\n",
      "Model: Support Vector_Machine\n",
      "\n",
      "Mean Accuracy on Training\n",
      "\n",
      "97.60\n",
      "\n",
      "Mean Accuracy on Testing\n",
      "\n",
      "84.54\n",
      "\n",
      " Average Time taken to build the model is 23.39 Seconds\n",
      "\n",
      " Average Time taken to predict is 1.02 Seconds\n",
      "\n",
      "--------------------------------------\n",
      "Model: Bernoulli Naive Bayes\n",
      "\n",
      "Mean Accuracy on Training\n",
      "\n",
      "91.82\n",
      "\n",
      "Mean Accuracy on Testing\n",
      "\n",
      "83.37\n",
      "\n",
      " Average Time taken to build the model is 0.01 Seconds\n",
      "\n",
      " Average Time taken to predict is 0.00 Seconds\n",
      "\n",
      "--------------------------------------\n",
      "Model: SGD\n",
      "\n",
      "Mean Accuracy on Training\n",
      "\n",
      "95.67\n",
      "\n",
      "Mean Accuracy on Testing\n",
      "\n",
      "83.72\n",
      "\n",
      " Average Time taken to build the model is 0.03 Seconds\n",
      "\n",
      " Average Time taken to predict is 0.00 Seconds\n"
     ]
    }
   ],
   "source": [
    "df=pd.read_csv('/Users/joe/Desktop/language-models-sprint1/data/train.csv')\n",
    "X = df['text']\n",
    "y = df['target']\n",
    "\n",
    "\n",
    "\n",
    "# different Vectorizers\n",
    "def Hash_vec(X):\n",
    "    Hvect=HashingVectorizer(lowercase=True,ngram_range=(1,1))\n",
    "    X=Hvect.fit_transform(X)\n",
    "    \n",
    "    return X\n",
    "\n",
    "def Count_Vec(X):\n",
    "    CountV=CountVectorizer(lowercase=True)\n",
    "    X=CountV.fit_transform(X)\n",
    "    \n",
    "    return X\n",
    "\n",
    "def TFIDF_vec(X):\n",
    "    tfidf=TfidfVectorizer(use_idf=True,lowercase=True)\n",
    "    X=tfidf.fit_transform(X)\n",
    "    \n",
    "    return X\n",
    "\n",
    "\n",
    "def overSample(X,y):\n",
    "    \n",
    "    oversample = SVMSMOTE(n_jobs=-1,random_state=47)\n",
    "    X, y = oversample.fit_resample(X, y)\n",
    "    return X,y\n",
    "\n",
    "\n",
    "\n",
    "# 5 ML methods with their best found parameters \n",
    "LG=LogisticRegression(solver='liblinear',penalty='l2')\n",
    "RF=RandomForestClassifier(n_estimators=220,n_jobs=-1,max_depth=100)\n",
    "\n",
    "SVM=SVC(kernel='rbf')\n",
    "\n",
    "SGD=SGDClassifier(n_jobs=-1,loss='hinge',penalty='l2',validation_fraction=0.1)\n",
    "\n",
    "NB=BernoulliNB(alpha=0.7)\n",
    "\n",
    "\n",
    "# list of the used vectorizers          \n",
    "list_of_Vectorizers = {'Hashing Vectorizer':Hash_vec,'Count Vectorizer':Count_Vec,\n",
    "                       'TFIDF Vectorizer':TFIDF_vec}\n",
    "\n",
    "# list of the used models\n",
    "list_of_models = {'Logisitc Regression':LG,'Random Forest':RF,'Support Vector_Machine':SVM,\n",
    "                  'Bernoulli Naive Bayes':NB,\n",
    "                  'SGD':SGD}\n",
    "\n",
    "\n",
    "models_accuracy = defaultdict()\n",
    "models_built_time=defaultdict()\n",
    "models_prediction_time=defaultdict()\n",
    "\n",
    "\n",
    "print(\"....................................Results with 10-Fold Cross Validation...............................\")\n",
    "\n",
    "\n",
    "def CV_model_score(models,Vectorizers,X,y):\n",
    "    kf = KFold(n_splits=10,random_state=42,shuffle=True)\n",
    "    for Vectorizer_name, vectorizer in Vectorizers.items():\n",
    "        print('\\n...........Results for {}..........'.format(Vectorizer_name))\n",
    "        X_vec=vectorizer(X)\n",
    "        X_samp,y_samp=overSample(X_vec,y)\n",
    "        for model_name, model in models.items():\n",
    "            single_modele_scores=[]\n",
    "            single_modele_build_time=[]\n",
    "            single_modele_predict_time=[]\n",
    "            single_modele_scores_for_training=[]\n",
    "            for train_index, test_index in kf.split(X_samp,y_samp):\n",
    "\n",
    "                start_time =  time.time()%60\n",
    "                X_train, X_test = X_samp[train_index], X_samp[test_index]\n",
    "                y_train, y_test = y_samp[train_index], y_samp[test_index]\n",
    "                text_clf = model.fit(X_train, y_train)\n",
    "                end_time= time.time()%60\n",
    "                if(end_time>start_time):\n",
    "                     time_to_build_the_model=float('%.2f' %(end_time-start_time))\n",
    "                else:\n",
    "                    time_to_build_the_model=float('%.2f' %(start_time-end_time))\n",
    "\n",
    "                single_modele_build_time.append(time_to_build_the_model)\n",
    "                start_time = time.time()%60\n",
    "                predicted = text_clf.predict(X_test)\n",
    "                end_time= time.time()%60\n",
    "                if(end_time>start_time):\n",
    "                    time_to_predict=float('%.2f' %(end_time-start_time))\n",
    "                else:\n",
    "                    time_to_predict=float('%.2f' %(start_time-end_time))\n",
    "                single_modele_predict_time.append(time_to_predict)\n",
    "\n",
    "                testing_accuracy=float('%.2f' %(accuracy_score(y_test,predicted)*100))\n",
    "                single_modele_scores.append(testing_accuracy)\n",
    "\n",
    "                training_accuracy=float('%.2f' %(text_clf.score(X_train,y_train)*100))\n",
    "                single_modele_scores_for_training.append(training_accuracy)\n",
    "\n",
    "            models_accuracy[model_name+\" \"+Vectorizer_name]=single_modele_scores\n",
    "            testing_accuracy=statistics.mean(single_modele_scores)\n",
    "            training_accuracy=statistics.mean(single_modele_scores_for_training)\n",
    "            models_built_time=statistics.mean(single_modele_build_time)\n",
    "            models_prediction_time=statistics.mean(single_modele_predict_time)\n",
    "\n",
    "            print('\\n--------------------------------------\\nModel: {}'.format(model_name))\n",
    "            print('\\nMean Accuracy on Training\\n')\n",
    "            print('%.2f' %training_accuracy)\n",
    "            print('\\nMean Accuracy on Testing\\n')\n",
    "            print('%.2f' %testing_accuracy)\n",
    "            print('\\n Average Time taken to build the model is {00:.2f} Seconds'.format(models_built_time))\n",
    "            print('\\n Average Time taken to predict is {00:.2f} Seconds'.format(models_prediction_time))\n",
    "       \n",
    "\n",
    "\n",
    "CV_model_score(list_of_models,list_of_Vectorizers,X,y)"
   ]
  },
  {
   "cell_type": "code",
   "execution_count": 20,
   "metadata": {},
   "outputs": [],
   "source": [
    "# Method to plot the accuracy of the folds per model in plot-box\n",
    "\n",
    "def resutls_visulization(list_of_resutls):\n",
    "   \n",
    "    model_names = list(list_of_resutls.keys())\n",
    "    results = [list_of_resutls[model] for model in model_names]\n",
    "    fig = go.Figure()\n",
    "    for model, result in zip(model_names, results):\n",
    "        fig.add_trace(go.Box(\n",
    "            y=result,\n",
    "            name=model,\n",
    "            boxpoints='all',\n",
    "            jitter=0.8,\n",
    "            whiskerwidth=0.9,\n",
    "            marker_size=5,\n",
    "            line_width=2)\n",
    "        )\n",
    "        \n",
    "    \n",
    "    fig.update_layout(\n",
    "    title='Performance of 5 ML Models Using 10-Fold Cross-Validation Using 3 Victorizers',\n",
    "    paper_bgcolor='rgb(243, 243, 243)',\n",
    "    plot_bgcolor='rgb(243, 243, 243)',\n",
    "    showlegend=False)\n",
    "    fig.update_yaxes(title_text=\"<b> Folds Accuracy % </b>\")\n",
    "    fig.update_xaxes(title_text=\"<b>ML Model and Type of Applied Victorizer </b>\")\n",
    "    fig.show()\n",
    "\n"
   ]
  },
  {
   "cell_type": "code",
   "execution_count": 21,
   "metadata": {},
   "outputs": [
    {
     "data": {
      "application/vnd.plotly.v1+json": {
       "config": {
        "plotlyServerURL": "https://plot.ly"
       },
       "data": [
        {
         "boxpoints": "all",
         "jitter": 0.8,
         "line": {
          "width": 2
         },
         "marker": {
          "size": 5
         },
         "name": "Logisitc Regression Hashing Vectorizer",
         "type": "box",
         "whiskerwidth": 0.9,
         "y": [
          80.67,
          80.78,
          81.93,
          82.39,
          82.49,
          81.22,
          81.68,
          79.15,
          77.88,
          79.15
         ]
        },
        {
         "boxpoints": "all",
         "jitter": 0.8,
         "line": {
          "width": 2
         },
         "marker": {
          "size": 5
         },
         "name": "Random Forest Hashing Vectorizer",
         "type": "box",
         "whiskerwidth": 0.9,
         "y": [
          80.78,
          80.32,
          83.89,
          83.43,
          85.02,
          80.76,
          83.41,
          81.11,
          81.8,
          80.41
         ]
        },
        {
         "boxpoints": "all",
         "jitter": 0.8,
         "line": {
          "width": 2
         },
         "marker": {
          "size": 5
         },
         "name": "Support Vector_Machine Hashing Vectorizer",
         "type": "box",
         "whiskerwidth": 0.9,
         "y": [
          83.89,
          82.85,
          84.58,
          85.85,
          85.02,
          83.18,
          83.76,
          82.83,
          81.11,
          81.34
         ]
        },
        {
         "boxpoints": "all",
         "jitter": 0.8,
         "line": {
          "width": 2
         },
         "marker": {
          "size": 5
         },
         "name": "Bernoulli Naive Bayes Hashing Vectorizer",
         "type": "box",
         "whiskerwidth": 0.9,
         "y": [
          80.44,
          78.83,
          76.29,
          76.29,
          81.68,
          77.19,
          80.88,
          78,
          78.34,
          77.3
         ]
        },
        {
         "boxpoints": "all",
         "jitter": 0.8,
         "line": {
          "width": 2
         },
         "marker": {
          "size": 5
         },
         "name": "SGD Hashing Vectorizer",
         "type": "box",
         "whiskerwidth": 0.9,
         "y": [
          84.23,
          82.62,
          83.43,
          85.39,
          84.33,
          83.53,
          84.22,
          81.22,
          81.22,
          80.3
         ]
        },
        {
         "boxpoints": "all",
         "jitter": 0.8,
         "line": {
          "width": 2
         },
         "marker": {
          "size": 5
         },
         "name": "Logisitc Regression Count Vectorizer",
         "type": "box",
         "whiskerwidth": 0.9,
         "y": [
          81.13,
          80.9,
          80.78,
          81.24,
          82.03,
          80.3,
          81.45,
          77.42,
          78.11,
          80.07
         ]
        },
        {
         "boxpoints": "all",
         "jitter": 0.8,
         "line": {
          "width": 2
         },
         "marker": {
          "size": 5
         },
         "name": "Random Forest Count Vectorizer",
         "type": "box",
         "whiskerwidth": 0.9,
         "y": [
          79.52,
          78.02,
          80.78,
          79.63,
          80.41,
          77.65,
          77.88,
          77.07,
          76.38,
          76.96
         ]
        },
        {
         "boxpoints": "all",
         "jitter": 0.8,
         "line": {
          "width": 2
         },
         "marker": {
          "size": 5
         },
         "name": "Support Vector_Machine Count Vectorizer",
         "type": "box",
         "whiskerwidth": 0.9,
         "y": [
          80.55,
          79.17,
          81.13,
          82.05,
          82.6,
          78.8,
          81.68,
          78.8,
          77.42,
          78.92
         ]
        },
        {
         "boxpoints": "all",
         "jitter": 0.8,
         "line": {
          "width": 2
         },
         "marker": {
          "size": 5
         },
         "name": "Bernoulli Naive Bayes Count Vectorizer",
         "type": "box",
         "whiskerwidth": 0.9,
         "y": [
          81.47,
          81.36,
          81.82,
          81.7,
          81.34,
          79.03,
          81.57,
          79.03,
          79.84,
          79.26
         ]
        },
        {
         "boxpoints": "all",
         "jitter": 0.8,
         "line": {
          "width": 2
         },
         "marker": {
          "size": 5
         },
         "name": "SGD Count Vectorizer",
         "type": "box",
         "whiskerwidth": 0.9,
         "y": [
          78.94,
          76.99,
          78.6,
          79.86,
          79.61,
          78.46,
          81.91,
          75.12,
          76.38,
          76.84
         ]
        },
        {
         "boxpoints": "all",
         "jitter": 0.8,
         "line": {
          "width": 2
         },
         "marker": {
          "size": 5
         },
         "name": "Logisitc Regression TFIDF Vectorizer",
         "type": "box",
         "whiskerwidth": 0.9,
         "y": [
          81.82,
          82.05,
          83.2,
          82.39,
          82.95,
          82.14,
          84.33,
          80.18,
          79.72,
          79.72
         ]
        },
        {
         "boxpoints": "all",
         "jitter": 0.8,
         "line": {
          "width": 2
         },
         "marker": {
          "size": 5
         },
         "name": "Random Forest TFIDF Vectorizer",
         "type": "box",
         "whiskerwidth": 0.9,
         "y": [
          82.39,
          80.09,
          82.97,
          82.05,
          84.45,
          80.18,
          81.11,
          79.95,
          79.72,
          79.38
         ]
        },
        {
         "boxpoints": "all",
         "jitter": 0.8,
         "line": {
          "width": 2
         },
         "marker": {
          "size": 5
         },
         "name": "Support Vector_Machine TFIDF Vectorizer",
         "type": "box",
         "whiskerwidth": 0.9,
         "y": [
          85.16,
          83.66,
          87.46,
          85.27,
          86.29,
          83.99,
          85.37,
          83.18,
          82.95,
          82.03
         ]
        },
        {
         "boxpoints": "all",
         "jitter": 0.8,
         "line": {
          "width": 2
         },
         "marker": {
          "size": 5
         },
         "name": "Bernoulli Naive Bayes TFIDF Vectorizer",
         "type": "box",
         "whiskerwidth": 0.9,
         "y": [
          84.7,
          84.35,
          85.62,
          84.12,
          84.22,
          81.91,
          83.18,
          81.68,
          82.03,
          81.91
         ]
        },
        {
         "boxpoints": "all",
         "jitter": 0.8,
         "line": {
          "width": 2
         },
         "marker": {
          "size": 5
         },
         "name": "SGD TFIDF Vectorizer",
         "type": "box",
         "whiskerwidth": 0.9,
         "y": [
          84.46,
          83.54,
          83.89,
          85.39,
          85.94,
          83.76,
          84.79,
          82.95,
          81.57,
          80.88
         ]
        }
       ],
       "layout": {
        "paper_bgcolor": "rgb(243, 243, 243)",
        "plot_bgcolor": "rgb(243, 243, 243)",
        "showlegend": false,
        "template": {
         "data": {
          "bar": [
           {
            "error_x": {
             "color": "#2a3f5f"
            },
            "error_y": {
             "color": "#2a3f5f"
            },
            "marker": {
             "line": {
              "color": "#E5ECF6",
              "width": 0.5
             }
            },
            "type": "bar"
           }
          ],
          "barpolar": [
           {
            "marker": {
             "line": {
              "color": "#E5ECF6",
              "width": 0.5
             }
            },
            "type": "barpolar"
           }
          ],
          "carpet": [
           {
            "aaxis": {
             "endlinecolor": "#2a3f5f",
             "gridcolor": "white",
             "linecolor": "white",
             "minorgridcolor": "white",
             "startlinecolor": "#2a3f5f"
            },
            "baxis": {
             "endlinecolor": "#2a3f5f",
             "gridcolor": "white",
             "linecolor": "white",
             "minorgridcolor": "white",
             "startlinecolor": "#2a3f5f"
            },
            "type": "carpet"
           }
          ],
          "choropleth": [
           {
            "colorbar": {
             "outlinewidth": 0,
             "ticks": ""
            },
            "type": "choropleth"
           }
          ],
          "contour": [
           {
            "colorbar": {
             "outlinewidth": 0,
             "ticks": ""
            },
            "colorscale": [
             [
              0,
              "#0d0887"
             ],
             [
              0.1111111111111111,
              "#46039f"
             ],
             [
              0.2222222222222222,
              "#7201a8"
             ],
             [
              0.3333333333333333,
              "#9c179e"
             ],
             [
              0.4444444444444444,
              "#bd3786"
             ],
             [
              0.5555555555555556,
              "#d8576b"
             ],
             [
              0.6666666666666666,
              "#ed7953"
             ],
             [
              0.7777777777777778,
              "#fb9f3a"
             ],
             [
              0.8888888888888888,
              "#fdca26"
             ],
             [
              1,
              "#f0f921"
             ]
            ],
            "type": "contour"
           }
          ],
          "contourcarpet": [
           {
            "colorbar": {
             "outlinewidth": 0,
             "ticks": ""
            },
            "type": "contourcarpet"
           }
          ],
          "heatmap": [
           {
            "colorbar": {
             "outlinewidth": 0,
             "ticks": ""
            },
            "colorscale": [
             [
              0,
              "#0d0887"
             ],
             [
              0.1111111111111111,
              "#46039f"
             ],
             [
              0.2222222222222222,
              "#7201a8"
             ],
             [
              0.3333333333333333,
              "#9c179e"
             ],
             [
              0.4444444444444444,
              "#bd3786"
             ],
             [
              0.5555555555555556,
              "#d8576b"
             ],
             [
              0.6666666666666666,
              "#ed7953"
             ],
             [
              0.7777777777777778,
              "#fb9f3a"
             ],
             [
              0.8888888888888888,
              "#fdca26"
             ],
             [
              1,
              "#f0f921"
             ]
            ],
            "type": "heatmap"
           }
          ],
          "heatmapgl": [
           {
            "colorbar": {
             "outlinewidth": 0,
             "ticks": ""
            },
            "colorscale": [
             [
              0,
              "#0d0887"
             ],
             [
              0.1111111111111111,
              "#46039f"
             ],
             [
              0.2222222222222222,
              "#7201a8"
             ],
             [
              0.3333333333333333,
              "#9c179e"
             ],
             [
              0.4444444444444444,
              "#bd3786"
             ],
             [
              0.5555555555555556,
              "#d8576b"
             ],
             [
              0.6666666666666666,
              "#ed7953"
             ],
             [
              0.7777777777777778,
              "#fb9f3a"
             ],
             [
              0.8888888888888888,
              "#fdca26"
             ],
             [
              1,
              "#f0f921"
             ]
            ],
            "type": "heatmapgl"
           }
          ],
          "histogram": [
           {
            "marker": {
             "colorbar": {
              "outlinewidth": 0,
              "ticks": ""
             }
            },
            "type": "histogram"
           }
          ],
          "histogram2d": [
           {
            "colorbar": {
             "outlinewidth": 0,
             "ticks": ""
            },
            "colorscale": [
             [
              0,
              "#0d0887"
             ],
             [
              0.1111111111111111,
              "#46039f"
             ],
             [
              0.2222222222222222,
              "#7201a8"
             ],
             [
              0.3333333333333333,
              "#9c179e"
             ],
             [
              0.4444444444444444,
              "#bd3786"
             ],
             [
              0.5555555555555556,
              "#d8576b"
             ],
             [
              0.6666666666666666,
              "#ed7953"
             ],
             [
              0.7777777777777778,
              "#fb9f3a"
             ],
             [
              0.8888888888888888,
              "#fdca26"
             ],
             [
              1,
              "#f0f921"
             ]
            ],
            "type": "histogram2d"
           }
          ],
          "histogram2dcontour": [
           {
            "colorbar": {
             "outlinewidth": 0,
             "ticks": ""
            },
            "colorscale": [
             [
              0,
              "#0d0887"
             ],
             [
              0.1111111111111111,
              "#46039f"
             ],
             [
              0.2222222222222222,
              "#7201a8"
             ],
             [
              0.3333333333333333,
              "#9c179e"
             ],
             [
              0.4444444444444444,
              "#bd3786"
             ],
             [
              0.5555555555555556,
              "#d8576b"
             ],
             [
              0.6666666666666666,
              "#ed7953"
             ],
             [
              0.7777777777777778,
              "#fb9f3a"
             ],
             [
              0.8888888888888888,
              "#fdca26"
             ],
             [
              1,
              "#f0f921"
             ]
            ],
            "type": "histogram2dcontour"
           }
          ],
          "mesh3d": [
           {
            "colorbar": {
             "outlinewidth": 0,
             "ticks": ""
            },
            "type": "mesh3d"
           }
          ],
          "parcoords": [
           {
            "line": {
             "colorbar": {
              "outlinewidth": 0,
              "ticks": ""
             }
            },
            "type": "parcoords"
           }
          ],
          "pie": [
           {
            "automargin": true,
            "type": "pie"
           }
          ],
          "scatter": [
           {
            "marker": {
             "colorbar": {
              "outlinewidth": 0,
              "ticks": ""
             }
            },
            "type": "scatter"
           }
          ],
          "scatter3d": [
           {
            "line": {
             "colorbar": {
              "outlinewidth": 0,
              "ticks": ""
             }
            },
            "marker": {
             "colorbar": {
              "outlinewidth": 0,
              "ticks": ""
             }
            },
            "type": "scatter3d"
           }
          ],
          "scattercarpet": [
           {
            "marker": {
             "colorbar": {
              "outlinewidth": 0,
              "ticks": ""
             }
            },
            "type": "scattercarpet"
           }
          ],
          "scattergeo": [
           {
            "marker": {
             "colorbar": {
              "outlinewidth": 0,
              "ticks": ""
             }
            },
            "type": "scattergeo"
           }
          ],
          "scattergl": [
           {
            "marker": {
             "colorbar": {
              "outlinewidth": 0,
              "ticks": ""
             }
            },
            "type": "scattergl"
           }
          ],
          "scattermapbox": [
           {
            "marker": {
             "colorbar": {
              "outlinewidth": 0,
              "ticks": ""
             }
            },
            "type": "scattermapbox"
           }
          ],
          "scatterpolar": [
           {
            "marker": {
             "colorbar": {
              "outlinewidth": 0,
              "ticks": ""
             }
            },
            "type": "scatterpolar"
           }
          ],
          "scatterpolargl": [
           {
            "marker": {
             "colorbar": {
              "outlinewidth": 0,
              "ticks": ""
             }
            },
            "type": "scatterpolargl"
           }
          ],
          "scatterternary": [
           {
            "marker": {
             "colorbar": {
              "outlinewidth": 0,
              "ticks": ""
             }
            },
            "type": "scatterternary"
           }
          ],
          "surface": [
           {
            "colorbar": {
             "outlinewidth": 0,
             "ticks": ""
            },
            "colorscale": [
             [
              0,
              "#0d0887"
             ],
             [
              0.1111111111111111,
              "#46039f"
             ],
             [
              0.2222222222222222,
              "#7201a8"
             ],
             [
              0.3333333333333333,
              "#9c179e"
             ],
             [
              0.4444444444444444,
              "#bd3786"
             ],
             [
              0.5555555555555556,
              "#d8576b"
             ],
             [
              0.6666666666666666,
              "#ed7953"
             ],
             [
              0.7777777777777778,
              "#fb9f3a"
             ],
             [
              0.8888888888888888,
              "#fdca26"
             ],
             [
              1,
              "#f0f921"
             ]
            ],
            "type": "surface"
           }
          ],
          "table": [
           {
            "cells": {
             "fill": {
              "color": "#EBF0F8"
             },
             "line": {
              "color": "white"
             }
            },
            "header": {
             "fill": {
              "color": "#C8D4E3"
             },
             "line": {
              "color": "white"
             }
            },
            "type": "table"
           }
          ]
         },
         "layout": {
          "annotationdefaults": {
           "arrowcolor": "#2a3f5f",
           "arrowhead": 0,
           "arrowwidth": 1
          },
          "autotypenumbers": "strict",
          "coloraxis": {
           "colorbar": {
            "outlinewidth": 0,
            "ticks": ""
           }
          },
          "colorscale": {
           "diverging": [
            [
             0,
             "#8e0152"
            ],
            [
             0.1,
             "#c51b7d"
            ],
            [
             0.2,
             "#de77ae"
            ],
            [
             0.3,
             "#f1b6da"
            ],
            [
             0.4,
             "#fde0ef"
            ],
            [
             0.5,
             "#f7f7f7"
            ],
            [
             0.6,
             "#e6f5d0"
            ],
            [
             0.7,
             "#b8e186"
            ],
            [
             0.8,
             "#7fbc41"
            ],
            [
             0.9,
             "#4d9221"
            ],
            [
             1,
             "#276419"
            ]
           ],
           "sequential": [
            [
             0,
             "#0d0887"
            ],
            [
             0.1111111111111111,
             "#46039f"
            ],
            [
             0.2222222222222222,
             "#7201a8"
            ],
            [
             0.3333333333333333,
             "#9c179e"
            ],
            [
             0.4444444444444444,
             "#bd3786"
            ],
            [
             0.5555555555555556,
             "#d8576b"
            ],
            [
             0.6666666666666666,
             "#ed7953"
            ],
            [
             0.7777777777777778,
             "#fb9f3a"
            ],
            [
             0.8888888888888888,
             "#fdca26"
            ],
            [
             1,
             "#f0f921"
            ]
           ],
           "sequentialminus": [
            [
             0,
             "#0d0887"
            ],
            [
             0.1111111111111111,
             "#46039f"
            ],
            [
             0.2222222222222222,
             "#7201a8"
            ],
            [
             0.3333333333333333,
             "#9c179e"
            ],
            [
             0.4444444444444444,
             "#bd3786"
            ],
            [
             0.5555555555555556,
             "#d8576b"
            ],
            [
             0.6666666666666666,
             "#ed7953"
            ],
            [
             0.7777777777777778,
             "#fb9f3a"
            ],
            [
             0.8888888888888888,
             "#fdca26"
            ],
            [
             1,
             "#f0f921"
            ]
           ]
          },
          "colorway": [
           "#636efa",
           "#EF553B",
           "#00cc96",
           "#ab63fa",
           "#FFA15A",
           "#19d3f3",
           "#FF6692",
           "#B6E880",
           "#FF97FF",
           "#FECB52"
          ],
          "font": {
           "color": "#2a3f5f"
          },
          "geo": {
           "bgcolor": "white",
           "lakecolor": "white",
           "landcolor": "#E5ECF6",
           "showlakes": true,
           "showland": true,
           "subunitcolor": "white"
          },
          "hoverlabel": {
           "align": "left"
          },
          "hovermode": "closest",
          "mapbox": {
           "style": "light"
          },
          "paper_bgcolor": "white",
          "plot_bgcolor": "#E5ECF6",
          "polar": {
           "angularaxis": {
            "gridcolor": "white",
            "linecolor": "white",
            "ticks": ""
           },
           "bgcolor": "#E5ECF6",
           "radialaxis": {
            "gridcolor": "white",
            "linecolor": "white",
            "ticks": ""
           }
          },
          "scene": {
           "xaxis": {
            "backgroundcolor": "#E5ECF6",
            "gridcolor": "white",
            "gridwidth": 2,
            "linecolor": "white",
            "showbackground": true,
            "ticks": "",
            "zerolinecolor": "white"
           },
           "yaxis": {
            "backgroundcolor": "#E5ECF6",
            "gridcolor": "white",
            "gridwidth": 2,
            "linecolor": "white",
            "showbackground": true,
            "ticks": "",
            "zerolinecolor": "white"
           },
           "zaxis": {
            "backgroundcolor": "#E5ECF6",
            "gridcolor": "white",
            "gridwidth": 2,
            "linecolor": "white",
            "showbackground": true,
            "ticks": "",
            "zerolinecolor": "white"
           }
          },
          "shapedefaults": {
           "line": {
            "color": "#2a3f5f"
           }
          },
          "ternary": {
           "aaxis": {
            "gridcolor": "white",
            "linecolor": "white",
            "ticks": ""
           },
           "baxis": {
            "gridcolor": "white",
            "linecolor": "white",
            "ticks": ""
           },
           "bgcolor": "#E5ECF6",
           "caxis": {
            "gridcolor": "white",
            "linecolor": "white",
            "ticks": ""
           }
          },
          "title": {
           "x": 0.05
          },
          "xaxis": {
           "automargin": true,
           "gridcolor": "white",
           "linecolor": "white",
           "ticks": "",
           "title": {
            "standoff": 15
           },
           "zerolinecolor": "white",
           "zerolinewidth": 2
          },
          "yaxis": {
           "automargin": true,
           "gridcolor": "white",
           "linecolor": "white",
           "ticks": "",
           "title": {
            "standoff": 15
           },
           "zerolinecolor": "white",
           "zerolinewidth": 2
          }
         }
        },
        "title": {
         "text": "Performance of 5 ML Models Using 10-Fold Cross-Validation Using 3 Victorizers"
        },
        "xaxis": {
         "title": {
          "text": "<b>ML Model and Type of Applied Victorizer </b>"
         }
        },
        "yaxis": {
         "title": {
          "text": "<b> Folds Accuracy % </b>"
         }
        }
       }
      },
      "text/html": [
       "<div>                            <div id=\"67575afd-9e2d-40a5-b773-e7662e8449c4\" class=\"plotly-graph-div\" style=\"height:525px; width:100%;\"></div>            <script type=\"text/javascript\">                require([\"plotly\"], function(Plotly) {                    window.PLOTLYENV=window.PLOTLYENV || {};                                    if (document.getElementById(\"67575afd-9e2d-40a5-b773-e7662e8449c4\")) {                    Plotly.newPlot(                        \"67575afd-9e2d-40a5-b773-e7662e8449c4\",                        [{\"boxpoints\": \"all\", \"jitter\": 0.8, \"line\": {\"width\": 2}, \"marker\": {\"size\": 5}, \"name\": \"Logisitc Regression Hashing Vectorizer\", \"type\": \"box\", \"whiskerwidth\": 0.9, \"y\": [80.67, 80.78, 81.93, 82.39, 82.49, 81.22, 81.68, 79.15, 77.88, 79.15]}, {\"boxpoints\": \"all\", \"jitter\": 0.8, \"line\": {\"width\": 2}, \"marker\": {\"size\": 5}, \"name\": \"Random Forest Hashing Vectorizer\", \"type\": \"box\", \"whiskerwidth\": 0.9, \"y\": [80.78, 80.32, 83.89, 83.43, 85.02, 80.76, 83.41, 81.11, 81.8, 80.41]}, {\"boxpoints\": \"all\", \"jitter\": 0.8, \"line\": {\"width\": 2}, \"marker\": {\"size\": 5}, \"name\": \"Support Vector_Machine Hashing Vectorizer\", \"type\": \"box\", \"whiskerwidth\": 0.9, \"y\": [83.89, 82.85, 84.58, 85.85, 85.02, 83.18, 83.76, 82.83, 81.11, 81.34]}, {\"boxpoints\": \"all\", \"jitter\": 0.8, \"line\": {\"width\": 2}, \"marker\": {\"size\": 5}, \"name\": \"Bernoulli Naive Bayes Hashing Vectorizer\", \"type\": \"box\", \"whiskerwidth\": 0.9, \"y\": [80.44, 78.83, 76.29, 76.29, 81.68, 77.19, 80.88, 78.0, 78.34, 77.3]}, {\"boxpoints\": \"all\", \"jitter\": 0.8, \"line\": {\"width\": 2}, \"marker\": {\"size\": 5}, \"name\": \"SGD Hashing Vectorizer\", \"type\": \"box\", \"whiskerwidth\": 0.9, \"y\": [84.23, 82.62, 83.43, 85.39, 84.33, 83.53, 84.22, 81.22, 81.22, 80.3]}, {\"boxpoints\": \"all\", \"jitter\": 0.8, \"line\": {\"width\": 2}, \"marker\": {\"size\": 5}, \"name\": \"Logisitc Regression Count Vectorizer\", \"type\": \"box\", \"whiskerwidth\": 0.9, \"y\": [81.13, 80.9, 80.78, 81.24, 82.03, 80.3, 81.45, 77.42, 78.11, 80.07]}, {\"boxpoints\": \"all\", \"jitter\": 0.8, \"line\": {\"width\": 2}, \"marker\": {\"size\": 5}, \"name\": \"Random Forest Count Vectorizer\", \"type\": \"box\", \"whiskerwidth\": 0.9, \"y\": [79.52, 78.02, 80.78, 79.63, 80.41, 77.65, 77.88, 77.07, 76.38, 76.96]}, {\"boxpoints\": \"all\", \"jitter\": 0.8, \"line\": {\"width\": 2}, \"marker\": {\"size\": 5}, \"name\": \"Support Vector_Machine Count Vectorizer\", \"type\": \"box\", \"whiskerwidth\": 0.9, \"y\": [80.55, 79.17, 81.13, 82.05, 82.6, 78.8, 81.68, 78.8, 77.42, 78.92]}, {\"boxpoints\": \"all\", \"jitter\": 0.8, \"line\": {\"width\": 2}, \"marker\": {\"size\": 5}, \"name\": \"Bernoulli Naive Bayes Count Vectorizer\", \"type\": \"box\", \"whiskerwidth\": 0.9, \"y\": [81.47, 81.36, 81.82, 81.7, 81.34, 79.03, 81.57, 79.03, 79.84, 79.26]}, {\"boxpoints\": \"all\", \"jitter\": 0.8, \"line\": {\"width\": 2}, \"marker\": {\"size\": 5}, \"name\": \"SGD Count Vectorizer\", \"type\": \"box\", \"whiskerwidth\": 0.9, \"y\": [78.94, 76.99, 78.6, 79.86, 79.61, 78.46, 81.91, 75.12, 76.38, 76.84]}, {\"boxpoints\": \"all\", \"jitter\": 0.8, \"line\": {\"width\": 2}, \"marker\": {\"size\": 5}, \"name\": \"Logisitc Regression TFIDF Vectorizer\", \"type\": \"box\", \"whiskerwidth\": 0.9, \"y\": [81.82, 82.05, 83.2, 82.39, 82.95, 82.14, 84.33, 80.18, 79.72, 79.72]}, {\"boxpoints\": \"all\", \"jitter\": 0.8, \"line\": {\"width\": 2}, \"marker\": {\"size\": 5}, \"name\": \"Random Forest TFIDF Vectorizer\", \"type\": \"box\", \"whiskerwidth\": 0.9, \"y\": [82.39, 80.09, 82.97, 82.05, 84.45, 80.18, 81.11, 79.95, 79.72, 79.38]}, {\"boxpoints\": \"all\", \"jitter\": 0.8, \"line\": {\"width\": 2}, \"marker\": {\"size\": 5}, \"name\": \"Support Vector_Machine TFIDF Vectorizer\", \"type\": \"box\", \"whiskerwidth\": 0.9, \"y\": [85.16, 83.66, 87.46, 85.27, 86.29, 83.99, 85.37, 83.18, 82.95, 82.03]}, {\"boxpoints\": \"all\", \"jitter\": 0.8, \"line\": {\"width\": 2}, \"marker\": {\"size\": 5}, \"name\": \"Bernoulli Naive Bayes TFIDF Vectorizer\", \"type\": \"box\", \"whiskerwidth\": 0.9, \"y\": [84.7, 84.35, 85.62, 84.12, 84.22, 81.91, 83.18, 81.68, 82.03, 81.91]}, {\"boxpoints\": \"all\", \"jitter\": 0.8, \"line\": {\"width\": 2}, \"marker\": {\"size\": 5}, \"name\": \"SGD TFIDF Vectorizer\", \"type\": \"box\", \"whiskerwidth\": 0.9, \"y\": [84.46, 83.54, 83.89, 85.39, 85.94, 83.76, 84.79, 82.95, 81.57, 80.88]}],                        {\"paper_bgcolor\": \"rgb(243, 243, 243)\", \"plot_bgcolor\": \"rgb(243, 243, 243)\", \"showlegend\": false, \"template\": {\"data\": {\"bar\": [{\"error_x\": {\"color\": \"#2a3f5f\"}, \"error_y\": {\"color\": \"#2a3f5f\"}, \"marker\": {\"line\": {\"color\": \"#E5ECF6\", \"width\": 0.5}}, \"type\": \"bar\"}], \"barpolar\": [{\"marker\": {\"line\": {\"color\": \"#E5ECF6\", \"width\": 0.5}}, \"type\": \"barpolar\"}], \"carpet\": [{\"aaxis\": {\"endlinecolor\": \"#2a3f5f\", \"gridcolor\": \"white\", \"linecolor\": \"white\", \"minorgridcolor\": \"white\", \"startlinecolor\": \"#2a3f5f\"}, \"baxis\": {\"endlinecolor\": \"#2a3f5f\", \"gridcolor\": \"white\", \"linecolor\": \"white\", \"minorgridcolor\": \"white\", \"startlinecolor\": \"#2a3f5f\"}, \"type\": \"carpet\"}], \"choropleth\": [{\"colorbar\": {\"outlinewidth\": 0, \"ticks\": \"\"}, \"type\": \"choropleth\"}], \"contour\": [{\"colorbar\": {\"outlinewidth\": 0, \"ticks\": \"\"}, \"colorscale\": [[0.0, \"#0d0887\"], [0.1111111111111111, \"#46039f\"], [0.2222222222222222, \"#7201a8\"], [0.3333333333333333, \"#9c179e\"], [0.4444444444444444, \"#bd3786\"], [0.5555555555555556, \"#d8576b\"], [0.6666666666666666, \"#ed7953\"], [0.7777777777777778, \"#fb9f3a\"], [0.8888888888888888, \"#fdca26\"], [1.0, \"#f0f921\"]], \"type\": \"contour\"}], \"contourcarpet\": [{\"colorbar\": {\"outlinewidth\": 0, \"ticks\": \"\"}, \"type\": \"contourcarpet\"}], \"heatmap\": [{\"colorbar\": {\"outlinewidth\": 0, \"ticks\": \"\"}, \"colorscale\": [[0.0, \"#0d0887\"], [0.1111111111111111, \"#46039f\"], [0.2222222222222222, \"#7201a8\"], [0.3333333333333333, \"#9c179e\"], [0.4444444444444444, \"#bd3786\"], [0.5555555555555556, \"#d8576b\"], [0.6666666666666666, \"#ed7953\"], [0.7777777777777778, \"#fb9f3a\"], [0.8888888888888888, \"#fdca26\"], [1.0, \"#f0f921\"]], \"type\": \"heatmap\"}], \"heatmapgl\": [{\"colorbar\": {\"outlinewidth\": 0, \"ticks\": \"\"}, \"colorscale\": [[0.0, \"#0d0887\"], [0.1111111111111111, \"#46039f\"], [0.2222222222222222, \"#7201a8\"], [0.3333333333333333, \"#9c179e\"], [0.4444444444444444, \"#bd3786\"], [0.5555555555555556, \"#d8576b\"], [0.6666666666666666, \"#ed7953\"], [0.7777777777777778, \"#fb9f3a\"], [0.8888888888888888, \"#fdca26\"], [1.0, \"#f0f921\"]], \"type\": \"heatmapgl\"}], \"histogram\": [{\"marker\": {\"colorbar\": {\"outlinewidth\": 0, \"ticks\": \"\"}}, \"type\": \"histogram\"}], \"histogram2d\": [{\"colorbar\": {\"outlinewidth\": 0, \"ticks\": \"\"}, \"colorscale\": [[0.0, \"#0d0887\"], [0.1111111111111111, \"#46039f\"], [0.2222222222222222, \"#7201a8\"], [0.3333333333333333, \"#9c179e\"], [0.4444444444444444, \"#bd3786\"], [0.5555555555555556, \"#d8576b\"], [0.6666666666666666, \"#ed7953\"], [0.7777777777777778, \"#fb9f3a\"], [0.8888888888888888, \"#fdca26\"], [1.0, \"#f0f921\"]], \"type\": \"histogram2d\"}], \"histogram2dcontour\": [{\"colorbar\": {\"outlinewidth\": 0, \"ticks\": \"\"}, \"colorscale\": [[0.0, \"#0d0887\"], [0.1111111111111111, \"#46039f\"], [0.2222222222222222, \"#7201a8\"], [0.3333333333333333, \"#9c179e\"], [0.4444444444444444, \"#bd3786\"], [0.5555555555555556, \"#d8576b\"], [0.6666666666666666, \"#ed7953\"], [0.7777777777777778, \"#fb9f3a\"], [0.8888888888888888, \"#fdca26\"], [1.0, \"#f0f921\"]], \"type\": \"histogram2dcontour\"}], \"mesh3d\": [{\"colorbar\": {\"outlinewidth\": 0, \"ticks\": \"\"}, \"type\": \"mesh3d\"}], \"parcoords\": [{\"line\": {\"colorbar\": {\"outlinewidth\": 0, \"ticks\": \"\"}}, \"type\": \"parcoords\"}], \"pie\": [{\"automargin\": true, \"type\": \"pie\"}], \"scatter\": [{\"marker\": {\"colorbar\": {\"outlinewidth\": 0, \"ticks\": \"\"}}, \"type\": \"scatter\"}], \"scatter3d\": [{\"line\": {\"colorbar\": {\"outlinewidth\": 0, \"ticks\": \"\"}}, \"marker\": {\"colorbar\": {\"outlinewidth\": 0, \"ticks\": \"\"}}, \"type\": \"scatter3d\"}], \"scattercarpet\": [{\"marker\": {\"colorbar\": {\"outlinewidth\": 0, \"ticks\": \"\"}}, \"type\": \"scattercarpet\"}], \"scattergeo\": [{\"marker\": {\"colorbar\": {\"outlinewidth\": 0, \"ticks\": \"\"}}, \"type\": \"scattergeo\"}], \"scattergl\": [{\"marker\": {\"colorbar\": {\"outlinewidth\": 0, \"ticks\": \"\"}}, \"type\": \"scattergl\"}], \"scattermapbox\": [{\"marker\": {\"colorbar\": {\"outlinewidth\": 0, \"ticks\": \"\"}}, \"type\": \"scattermapbox\"}], \"scatterpolar\": [{\"marker\": {\"colorbar\": {\"outlinewidth\": 0, \"ticks\": \"\"}}, \"type\": \"scatterpolar\"}], \"scatterpolargl\": [{\"marker\": {\"colorbar\": {\"outlinewidth\": 0, \"ticks\": \"\"}}, \"type\": \"scatterpolargl\"}], \"scatterternary\": [{\"marker\": {\"colorbar\": {\"outlinewidth\": 0, \"ticks\": \"\"}}, \"type\": \"scatterternary\"}], \"surface\": [{\"colorbar\": {\"outlinewidth\": 0, \"ticks\": \"\"}, \"colorscale\": [[0.0, \"#0d0887\"], [0.1111111111111111, \"#46039f\"], [0.2222222222222222, \"#7201a8\"], [0.3333333333333333, \"#9c179e\"], [0.4444444444444444, \"#bd3786\"], [0.5555555555555556, \"#d8576b\"], [0.6666666666666666, \"#ed7953\"], [0.7777777777777778, \"#fb9f3a\"], [0.8888888888888888, \"#fdca26\"], [1.0, \"#f0f921\"]], \"type\": \"surface\"}], \"table\": [{\"cells\": {\"fill\": {\"color\": \"#EBF0F8\"}, \"line\": {\"color\": \"white\"}}, \"header\": {\"fill\": {\"color\": \"#C8D4E3\"}, \"line\": {\"color\": \"white\"}}, \"type\": \"table\"}]}, \"layout\": {\"annotationdefaults\": {\"arrowcolor\": \"#2a3f5f\", \"arrowhead\": 0, \"arrowwidth\": 1}, \"autotypenumbers\": \"strict\", \"coloraxis\": {\"colorbar\": {\"outlinewidth\": 0, \"ticks\": \"\"}}, \"colorscale\": {\"diverging\": [[0, \"#8e0152\"], [0.1, \"#c51b7d\"], [0.2, \"#de77ae\"], [0.3, \"#f1b6da\"], [0.4, \"#fde0ef\"], [0.5, \"#f7f7f7\"], [0.6, \"#e6f5d0\"], [0.7, \"#b8e186\"], [0.8, \"#7fbc41\"], [0.9, \"#4d9221\"], [1, \"#276419\"]], \"sequential\": [[0.0, \"#0d0887\"], [0.1111111111111111, \"#46039f\"], [0.2222222222222222, \"#7201a8\"], [0.3333333333333333, \"#9c179e\"], [0.4444444444444444, \"#bd3786\"], [0.5555555555555556, \"#d8576b\"], [0.6666666666666666, \"#ed7953\"], [0.7777777777777778, \"#fb9f3a\"], [0.8888888888888888, \"#fdca26\"], [1.0, \"#f0f921\"]], \"sequentialminus\": [[0.0, \"#0d0887\"], [0.1111111111111111, \"#46039f\"], [0.2222222222222222, \"#7201a8\"], [0.3333333333333333, \"#9c179e\"], [0.4444444444444444, \"#bd3786\"], [0.5555555555555556, \"#d8576b\"], [0.6666666666666666, \"#ed7953\"], [0.7777777777777778, \"#fb9f3a\"], [0.8888888888888888, \"#fdca26\"], [1.0, \"#f0f921\"]]}, \"colorway\": [\"#636efa\", \"#EF553B\", \"#00cc96\", \"#ab63fa\", \"#FFA15A\", \"#19d3f3\", \"#FF6692\", \"#B6E880\", \"#FF97FF\", \"#FECB52\"], \"font\": {\"color\": \"#2a3f5f\"}, \"geo\": {\"bgcolor\": \"white\", \"lakecolor\": \"white\", \"landcolor\": \"#E5ECF6\", \"showlakes\": true, \"showland\": true, \"subunitcolor\": \"white\"}, \"hoverlabel\": {\"align\": \"left\"}, \"hovermode\": \"closest\", \"mapbox\": {\"style\": \"light\"}, \"paper_bgcolor\": \"white\", \"plot_bgcolor\": \"#E5ECF6\", \"polar\": {\"angularaxis\": {\"gridcolor\": \"white\", \"linecolor\": \"white\", \"ticks\": \"\"}, \"bgcolor\": \"#E5ECF6\", \"radialaxis\": {\"gridcolor\": \"white\", \"linecolor\": \"white\", \"ticks\": \"\"}}, \"scene\": {\"xaxis\": {\"backgroundcolor\": \"#E5ECF6\", \"gridcolor\": \"white\", \"gridwidth\": 2, \"linecolor\": \"white\", \"showbackground\": true, \"ticks\": \"\", \"zerolinecolor\": \"white\"}, \"yaxis\": {\"backgroundcolor\": \"#E5ECF6\", \"gridcolor\": \"white\", \"gridwidth\": 2, \"linecolor\": \"white\", \"showbackground\": true, \"ticks\": \"\", \"zerolinecolor\": \"white\"}, \"zaxis\": {\"backgroundcolor\": \"#E5ECF6\", \"gridcolor\": \"white\", \"gridwidth\": 2, \"linecolor\": \"white\", \"showbackground\": true, \"ticks\": \"\", \"zerolinecolor\": \"white\"}}, \"shapedefaults\": {\"line\": {\"color\": \"#2a3f5f\"}}, \"ternary\": {\"aaxis\": {\"gridcolor\": \"white\", \"linecolor\": \"white\", \"ticks\": \"\"}, \"baxis\": {\"gridcolor\": \"white\", \"linecolor\": \"white\", \"ticks\": \"\"}, \"bgcolor\": \"#E5ECF6\", \"caxis\": {\"gridcolor\": \"white\", \"linecolor\": \"white\", \"ticks\": \"\"}}, \"title\": {\"x\": 0.05}, \"xaxis\": {\"automargin\": true, \"gridcolor\": \"white\", \"linecolor\": \"white\", \"ticks\": \"\", \"title\": {\"standoff\": 15}, \"zerolinecolor\": \"white\", \"zerolinewidth\": 2}, \"yaxis\": {\"automargin\": true, \"gridcolor\": \"white\", \"linecolor\": \"white\", \"ticks\": \"\", \"title\": {\"standoff\": 15}, \"zerolinecolor\": \"white\", \"zerolinewidth\": 2}}}, \"title\": {\"text\": \"Performance of 5 ML Models Using 10-Fold Cross-Validation Using 3 Victorizers\"}, \"xaxis\": {\"title\": {\"text\": \"<b>ML Model and Type of Applied Victorizer </b>\"}}, \"yaxis\": {\"title\": {\"text\": \"<b> Folds Accuracy % </b>\"}}},                        {\"responsive\": true}                    ).then(function(){\n",
       "                            \n",
       "var gd = document.getElementById('67575afd-9e2d-40a5-b773-e7662e8449c4');\n",
       "var x = new MutationObserver(function (mutations, observer) {{\n",
       "        var display = window.getComputedStyle(gd).display;\n",
       "        if (!display || display === 'none') {{\n",
       "            console.log([gd, 'removed!']);\n",
       "            Plotly.purge(gd);\n",
       "            observer.disconnect();\n",
       "        }}\n",
       "}});\n",
       "\n",
       "// Listen for the removal of the full notebook cells\n",
       "var notebookContainer = gd.closest('#notebook-container');\n",
       "if (notebookContainer) {{\n",
       "    x.observe(notebookContainer, {childList: true});\n",
       "}}\n",
       "\n",
       "// Listen for the clearing of the current output cell\n",
       "var outputEl = gd.closest('.output');\n",
       "if (outputEl) {{\n",
       "    x.observe(outputEl, {childList: true});\n",
       "}}\n",
       "\n",
       "                        })                };                });            </script>        </div>"
      ]
     },
     "metadata": {},
     "output_type": "display_data"
    }
   ],
   "source": [
    "# plotting the results\n",
    "resutls_visulization(models_accuracy)"
   ]
  }
 ],
 "metadata": {
  "kernelspec": {
   "display_name": "Python 3",
   "language": "python",
   "name": "python3"
  },
  "language_info": {
   "codemirror_mode": {
    "name": "ipython",
    "version": 3
   },
   "file_extension": ".py",
   "mimetype": "text/x-python",
   "name": "python",
   "nbconvert_exporter": "python",
   "pygments_lexer": "ipython3",
   "version": "3.8.5"
  }
 },
 "nbformat": 4,
 "nbformat_minor": 4
}
