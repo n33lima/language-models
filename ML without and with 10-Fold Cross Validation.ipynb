{
 "cells": [
  {
   "cell_type": "code",
   "execution_count": 1013,
   "metadata": {},
   "outputs": [],
   "source": [
    "import numpy as np\n",
    "import pandas as pd\n",
    "from sklearn.model_selection import train_test_split\n",
    "import datetime,time\n",
    "from sklearn.metrics import accuracy_score,confusion_matrix,classification_report\n",
    "import matplotlib.pyplot as plt\n",
    "from sklearn.linear_model import LogisticRegression,LogisticRegressionCV\n",
    "from sklearn.naive_bayes import MultinomialNB\n",
    "from sklearn.ensemble import RandomForestClassifier\n",
    "from sklearn.feature_extraction.text import CountVectorizer, TfidfVectorizer,TfidfTransformer\n",
    "from sklearn.model_selection import KFold\n",
    "from sklearn.pipeline import Pipeline\n",
    "from sklearn.ensemble import StackingClassifier\n",
    "import plotly.graph_objects as go\n",
    "from plotly.subplots import make_subplots\n",
    "from sklearn.svm import SVC\n",
    "import math\n",
    "import statistics"
   ]
  },
  {
   "cell_type": "code",
   "execution_count": 1037,
   "metadata": {},
   "outputs": [
    {
     "name": "stdout",
     "output_type": "stream",
     "text": [
      "\n",
      "................................................\n",
      "Model Logisitc Regression\n",
      "[[1157  161]\n",
      " [ 280  686]]\n",
      "              precision    recall  f1-score   support\n",
      "\n",
      "           0       0.81      0.88      0.84      1318\n",
      "           1       0.81      0.71      0.76       966\n",
      "\n",
      "    accuracy                           0.81      2284\n",
      "   macro avg       0.81      0.79      0.80      2284\n",
      "weighted avg       0.81      0.81      0.80      2284\n",
      "\n",
      "\n",
      "Accuracy on Training:\n",
      "88.87\n",
      "\n",
      "Accuracy on Testing:\n",
      "80.69\n",
      "\n",
      "Time taken to build the model is 0.25 Seconds\n",
      "\n",
      "Time taken for prediction is 0.03 Seconds\n",
      "\n",
      "................................................\n",
      "Model Random_Forest\n",
      "[[1205  113]\n",
      " [ 419  547]]\n",
      "              precision    recall  f1-score   support\n",
      "\n",
      "           0       0.74      0.91      0.82      1318\n",
      "           1       0.83      0.57      0.67       966\n",
      "\n",
      "    accuracy                           0.77      2284\n",
      "   macro avg       0.79      0.74      0.75      2284\n",
      "weighted avg       0.78      0.77      0.76      2284\n",
      "\n",
      "\n",
      "Accuracy on Training:\n",
      "92.83\n",
      "\n",
      "Accuracy on Testing:\n",
      "76.71\n",
      "\n",
      "Time taken to build the model is 0.45 Seconds\n",
      "\n",
      "Time taken for prediction is 0.05 Seconds\n",
      "\n",
      "................................................\n",
      "Model Support_Vecotr_Machine\n",
      "[[1185  133]\n",
      " [ 294  672]]\n",
      "              precision    recall  f1-score   support\n",
      "\n",
      "           0       0.80      0.90      0.85      1318\n",
      "           1       0.83      0.70      0.76       966\n",
      "\n",
      "    accuracy                           0.81      2284\n",
      "   macro avg       0.82      0.80      0.80      2284\n",
      "weighted avg       0.82      0.81      0.81      2284\n",
      "\n",
      "\n",
      "Accuracy on Training:\n",
      "97.30\n",
      "\n",
      "Accuracy on Testing:\n",
      "81.30\n",
      "\n",
      "Time taken to build the model is 4.51 Seconds\n",
      "\n",
      "Time taken for prediction is 1.54 Seconds\n",
      "\n",
      "................................................\n",
      "Model Naive_Bayes\n",
      "[[1231   87]\n",
      " [ 354  612]]\n",
      "              precision    recall  f1-score   support\n",
      "\n",
      "           0       0.78      0.93      0.85      1318\n",
      "           1       0.88      0.63      0.74       966\n",
      "\n",
      "    accuracy                           0.81      2284\n",
      "   macro avg       0.83      0.78      0.79      2284\n",
      "weighted avg       0.82      0.81      0.80      2284\n",
      "\n",
      "\n",
      "Accuracy on Training:\n",
      "89.59\n",
      "\n",
      "Accuracy on Testing:\n",
      "80.69\n",
      "\n",
      "Time taken to build the model is 0.11 Seconds\n",
      "\n",
      "Time taken for prediction is 0.03 Seconds\n"
     ]
    }
   ],
   "source": [
    "\n",
    "# 4 ML models without Cross-Validation\n",
    "df=pd.read_csv('/Users/joe/Desktop/language-models-sprint1/data/train.csv')\n",
    "X = df['text']\n",
    "y = df['target']\n",
    "\n",
    "\n",
    "\n",
    "X_train, X_test, y_train, y_test = train_test_split(X, y, test_size=0.30, random_state=42)\n",
    "\n",
    "# pipe for each model\n",
    "pipe1 = Pipeline([('vect', CountVectorizer()),\n",
    "                     ('tfidf', TfidfTransformer(use_idf=True)),\n",
    "                     ('clf', LogisticRegression()),])\n",
    "pipe2 = Pipeline([('vect', CountVectorizer()),\n",
    "                     ('tfidf', TfidfTransformer(use_idf=True)),\n",
    "                     ('clf', RandomForestClassifier(n_estimators=14,max_depth=100,ccp_alpha=0.0001,\n",
    "                                                    random_state=42,criterion='entropy')),])\n",
    "\n",
    "pipe3 = Pipeline([('vect', CountVectorizer()),\n",
    "                     ('tfidf', TfidfTransformer(use_idf=True)),\n",
    "                     ('clf', SVC()),])\n",
    "pipe4 = Pipeline([('vect', CountVectorizer()),\n",
    "                     ('tfidf', TfidfTransformer(use_idf=True)),\n",
    "                     ('clf', MultinomialNB()),])\n",
    "\n",
    "# list of thr models as pipes\n",
    "list_of_models = {'Logisitc Regression':pipe1,'Random_Forest':pipe2,'Support_Vecotr_Machine':pipe3,\n",
    "                  'Naive_Bayes':pipe4}\n",
    "\n",
    "\n",
    "def get_Model_results(models,X_train,y_train,X_test,y_test):\n",
    "  \n",
    "    for model_name, model in list_of_models.items():\n",
    "        \n",
    "        start_time =  time.time()%60\n",
    "        text_clf = model.fit(X_train, y_train)\n",
    "        end_time= time.time()%60\n",
    "        \n",
    "        if(end_time>start_time):\n",
    "            time_to_build_the_model='%.2f' %(end_time-start_time)\n",
    "        else:\n",
    "            time_to_build_the_model='%.2f' %(start_time-end_time)\n",
    "                \n",
    "        \n",
    "        start_time = time.time()%60\n",
    "        predicted = text_clf.predict(X_test)\n",
    "        end_time= time.time()%60\n",
    "        \n",
    "        if(end_time>start_time):\n",
    "            time_to_predict='%.2f' %(end_time-start_time)\n",
    "        else:\n",
    "            time_to_predict='%.2f' %(start_time-end_time)\n",
    "                \n",
    "        \n",
    "        print('\\n................................................\\nModel {}'.format(model_name))\n",
    "        print(confusion_matrix(y_test,predicted))\n",
    "        print(classification_report(y_test,predicted))\n",
    "        print('\\nAccuracy on Training:\\n{00:.2f}'.format(text_clf.score(X_train,y_train)*100))\n",
    "    \n",
    "        print('\\nAccuracy on Testing:\\n{00:.2f}'.format(accuracy_score(y_test,predicted)*100))\n",
    "       \n",
    "        print('\\nTime taken to build the model is {} Seconds'.format(time_to_build_the_model))\n",
    "        print('\\nTime taken for prediction is {} Seconds'.format(time_to_predict))\n",
    "\n",
    "\n",
    "\n",
    "get_Model_results(list_of_models,X_train,y_train,X_test,y_test)\n",
    "\n"
   ]
  },
  {
   "cell_type": "code",
   "execution_count": 1038,
   "metadata": {},
   "outputs": [
    {
     "name": "stdout",
     "output_type": "stream",
     "text": [
      "\n",
      "--------------------------------------\n",
      "Model Logisitc Regression\n",
      "Accuracy on Training\n",
      "\n",
      "88.72\n",
      "\n",
      "Accuracy on Testing\n",
      "\n",
      "80.26\n",
      "\n",
      "Time taken to build the model is 0.37 Seconds\n",
      "\n",
      "Time taken to predict is 0.01 Seconds\n",
      "\n",
      "--------------------------------------\n",
      "Model Random_Forest\n",
      "Accuracy on Training\n",
      "\n",
      "91.41\n",
      "\n",
      "Accuracy on Testing\n",
      "\n",
      "76.62\n",
      "\n",
      "Time taken to build the model is 0.64 Seconds\n",
      "\n",
      "Time taken to predict is 0.02 Seconds\n",
      "\n",
      "--------------------------------------\n",
      "Model Support_Vecotr_Machine\n",
      "Accuracy on Training\n",
      "\n",
      "96.83\n",
      "\n",
      "Accuracy on Testing\n",
      "\n",
      "80.80\n",
      "\n",
      "Time taken to build the model is 21.15 Seconds\n",
      "\n",
      "Time taken to predict is 0.74 Seconds\n",
      "\n",
      "--------------------------------------\n",
      "Model Naive_Bayes\n",
      "Accuracy on Training\n",
      "\n",
      "88.78\n",
      "\n",
      "Accuracy on Testing\n",
      "\n",
      "79.80\n",
      "\n",
      "Time taken to build the model is 0.14 Seconds\n",
      "\n",
      "Time taken to predict is 0.01 Seconds\n"
     ]
    }
   ],
   "source": [
    "\n",
    "# Same 4 models, but with 10-Fold Cross Validation including building and testing time of the model \n",
    "\n",
    "df=pd.read_csv('/Users/joe/Desktop/language-models-sprint1/data/train.csv')\n",
    "X = df['text']\n",
    "y = df['target']\n",
    "\n",
    "\n",
    "\n",
    "pipe1 = Pipeline([('vect', CountVectorizer()),\n",
    "                     ('tfidf', TfidfTransformer(use_idf=True)),\n",
    "                     ('clf', LogisticRegression()),])\n",
    "pipe2 = Pipeline([('vect', CountVectorizer()),\n",
    "                     ('tfidf', TfidfTransformer(use_idf=True)),\n",
    "                     ('clf', RandomForestClassifier(n_estimators=14,max_depth=100,ccp_alpha=0.0001,\n",
    "                                                    random_state=42,criterion='entropy')),])\n",
    "\n",
    "pipe3 = Pipeline([('vect', CountVectorizer()),\n",
    "                     ('tfidf', TfidfTransformer(use_idf=True)),\n",
    "                     ('clf', SVC()),])\n",
    "pipe4 = Pipeline([('vect', CountVectorizer()),\n",
    "                     ('tfidf', TfidfTransformer(use_idf=True)),\n",
    "                     ('clf', MultinomialNB()),])\n",
    "\n",
    "\n",
    "models_accuracy = defaultdict()\n",
    "models_built_time=defaultdict()\n",
    "models_prediction_time=defaultdict()\n",
    "\n",
    "list_of_models = {'Logisitc Regression':pipe1,'Random_Forest':pipe2,'Support_Vecotr_Machine':pipe3,\n",
    "                  'Naive_Bayes':pipe4}\n",
    "\n",
    "\n",
    "def CV_model_score(models,X,y):\n",
    "    kf = KFold(n_splits=10,random_state=42,shuffle=True)\n",
    "    for model_name, model in list_of_models.items():\n",
    "        single_modele_scores=[]\n",
    "        single_modele_build_time=[]\n",
    "        single_modele_predict_time=[]\n",
    "        single_modele_scores_for_training=[]\n",
    "        for train_index, test_index in kf.split(X,y):\n",
    "         \n",
    "            \n",
    "            start_time =  time.time()%60\n",
    "            X_train, X_test = X[train_index], X[test_index]\n",
    "            y_train, y_test = y[train_index], y[test_index]\n",
    "            text_clf = model.fit(X_train, y_train)\n",
    "            end_time= time.time()%60\n",
    "            if(end_time>start_time):\n",
    "                 time_to_build_the_model=float('%.2f' %(end_time-start_time))\n",
    "            else:\n",
    "                time_to_build_the_model=float('%.2f' %(start_time-end_time))\n",
    "            \n",
    "            single_modele_build_time.append(time_to_build_the_model)\n",
    "            start_time = time.time()%60\n",
    "            predicted = text_clf.predict(X_test)\n",
    "            end_time= time.time()%60\n",
    "            if(end_time>start_time):\n",
    "                time_to_predict=float('%.2f' %(end_time-start_time))\n",
    "            else:\n",
    "                time_to_predict=float('%.2f' %(start_time-end_time))\n",
    "            single_modele_predict_time.append(time_to_predict)\n",
    "            \n",
    "            testing_accuracy=float('%.2f' %(accuracy_score(y_test,predicted)*100))\n",
    "            single_modele_scores.append(testing_accuracy)\n",
    "            \n",
    "            training_accuracy=float('%.2f' %(text_clf.score(X_train,y_train)*100))\n",
    "            single_modele_scores_for_training.append(training_accuracy)\n",
    "        \n",
    "        models_accuracy[model_name]=single_modele_scores\n",
    "        testing_accuracy=statistics.mean(single_modele_scores)\n",
    "        training_accuracy=statistics.mean(single_modele_scores_for_training)\n",
    "        models_built_time=statistics.mean(single_modele_build_time)\n",
    "        models_prediction_time=statistics.mean(single_modele_predict_time)\n",
    "        \n",
    "        print('\\n--------------------------------------\\nModel {}'.format(model_name))\n",
    "        print('Accuracy on Training\\n')\n",
    "        print('%.2f' %training_accuracy)\n",
    "        print('\\nAccuracy on Testing\\n')\n",
    "        print('%.2f' %testing_accuracy)\n",
    "        print('\\nTime taken to build the model is {00:.2f} Seconds'.format(models_built_time))\n",
    "        print('\\nTime taken to predict is {00:.2f} Seconds'.format(models_prediction_time))\n",
    "       \n",
    "\n",
    "\n",
    "\n",
    "CV_model_score(list_of_models,X,y)\n"
   ]
  },
  {
   "cell_type": "code",
   "execution_count": 1039,
   "metadata": {},
   "outputs": [],
   "source": [
    "# Method to plot the result\n",
    "\n",
    "def resutls_visulization(list_of_resutls):\n",
    "   \n",
    "    model_names = list(list_of_resutls.keys())\n",
    "    results = [list_of_resutls[model] for model in model_names]\n",
    "    fig = go.Figure()\n",
    "    for model, result in zip(model_names, results):\n",
    "        fig.add_trace(go.Box(\n",
    "            y=result,\n",
    "            name=model,\n",
    "            boxpoints='all',\n",
    "            jitter=0.8,\n",
    "            whiskerwidth=0.9,\n",
    "            marker_size=5,\n",
    "            line_width=2)\n",
    "        )\n",
    "        \n",
    "    \n",
    "    fig.update_layout(\n",
    "    title='Performance of 4 ML Models Using 10-Fold Cross-Validation',\n",
    "    paper_bgcolor='rgb(243, 243, 243)',\n",
    "    plot_bgcolor='rgb(243, 243, 243)',\n",
    "    showlegend=True)\n",
    "    fig.update_yaxes(title_text=\"<b>Accuracy % </b>\")\n",
    "    fig.update_xaxes(title_text=\"<b>ML Model</b>\")\n",
    "    fig.show()\n"
   ]
  },
  {
   "cell_type": "code",
   "execution_count": 1040,
   "metadata": {},
   "outputs": [
    {
     "data": {
      "application/vnd.plotly.v1+json": {
       "config": {
        "plotlyServerURL": "https://plot.ly"
       },
       "data": [
        {
         "boxpoints": "all",
         "jitter": 0.8,
         "line": {
          "width": 2
         },
         "marker": {
          "size": 5
         },
         "name": "Logisitc Regression",
         "type": "box",
         "whiskerwidth": 0.9,
         "y": [
          78.87,
          80.05,
          82.68,
          78.98,
          80.55,
          84.76,
          80.68,
          77.92,
          77.14,
          80.95
         ]
        },
        {
         "boxpoints": "all",
         "jitter": 0.8,
         "line": {
          "width": 2
         },
         "marker": {
          "size": 5
         },
         "name": "Random_Forest",
         "type": "box",
         "whiskerwidth": 0.9,
         "y": [
          75.85,
          77.69,
          76.38,
          76.74,
          76.87,
          79.24,
          76.08,
          75.82,
          73.85,
          77.66
         ]
        },
        {
         "boxpoints": "all",
         "jitter": 0.8,
         "line": {
          "width": 2
         },
         "marker": {
          "size": 5
         },
         "name": "Support_Vecotr_Machine",
         "type": "box",
         "whiskerwidth": 0.9,
         "y": [
          79.13,
          82.41,
          82.94,
          80.68,
          80.42,
          84.63,
          80.55,
          78.98,
          77.4,
          80.81
         ]
        },
        {
         "boxpoints": "all",
         "jitter": 0.8,
         "line": {
          "width": 2
         },
         "marker": {
          "size": 5
         },
         "name": "Naive_Bayes",
         "type": "box",
         "whiskerwidth": 0.9,
         "y": [
          77.82,
          82.02,
          81.5,
          78.84,
          79.63,
          83.31,
          79.76,
          78.19,
          78.32,
          78.58
         ]
        }
       ],
       "layout": {
        "paper_bgcolor": "rgb(243, 243, 243)",
        "plot_bgcolor": "rgb(243, 243, 243)",
        "showlegend": true,
        "template": {
         "data": {
          "bar": [
           {
            "error_x": {
             "color": "#2a3f5f"
            },
            "error_y": {
             "color": "#2a3f5f"
            },
            "marker": {
             "line": {
              "color": "#E5ECF6",
              "width": 0.5
             }
            },
            "type": "bar"
           }
          ],
          "barpolar": [
           {
            "marker": {
             "line": {
              "color": "#E5ECF6",
              "width": 0.5
             }
            },
            "type": "barpolar"
           }
          ],
          "carpet": [
           {
            "aaxis": {
             "endlinecolor": "#2a3f5f",
             "gridcolor": "white",
             "linecolor": "white",
             "minorgridcolor": "white",
             "startlinecolor": "#2a3f5f"
            },
            "baxis": {
             "endlinecolor": "#2a3f5f",
             "gridcolor": "white",
             "linecolor": "white",
             "minorgridcolor": "white",
             "startlinecolor": "#2a3f5f"
            },
            "type": "carpet"
           }
          ],
          "choropleth": [
           {
            "colorbar": {
             "outlinewidth": 0,
             "ticks": ""
            },
            "type": "choropleth"
           }
          ],
          "contour": [
           {
            "colorbar": {
             "outlinewidth": 0,
             "ticks": ""
            },
            "colorscale": [
             [
              0,
              "#0d0887"
             ],
             [
              0.1111111111111111,
              "#46039f"
             ],
             [
              0.2222222222222222,
              "#7201a8"
             ],
             [
              0.3333333333333333,
              "#9c179e"
             ],
             [
              0.4444444444444444,
              "#bd3786"
             ],
             [
              0.5555555555555556,
              "#d8576b"
             ],
             [
              0.6666666666666666,
              "#ed7953"
             ],
             [
              0.7777777777777778,
              "#fb9f3a"
             ],
             [
              0.8888888888888888,
              "#fdca26"
             ],
             [
              1,
              "#f0f921"
             ]
            ],
            "type": "contour"
           }
          ],
          "contourcarpet": [
           {
            "colorbar": {
             "outlinewidth": 0,
             "ticks": ""
            },
            "type": "contourcarpet"
           }
          ],
          "heatmap": [
           {
            "colorbar": {
             "outlinewidth": 0,
             "ticks": ""
            },
            "colorscale": [
             [
              0,
              "#0d0887"
             ],
             [
              0.1111111111111111,
              "#46039f"
             ],
             [
              0.2222222222222222,
              "#7201a8"
             ],
             [
              0.3333333333333333,
              "#9c179e"
             ],
             [
              0.4444444444444444,
              "#bd3786"
             ],
             [
              0.5555555555555556,
              "#d8576b"
             ],
             [
              0.6666666666666666,
              "#ed7953"
             ],
             [
              0.7777777777777778,
              "#fb9f3a"
             ],
             [
              0.8888888888888888,
              "#fdca26"
             ],
             [
              1,
              "#f0f921"
             ]
            ],
            "type": "heatmap"
           }
          ],
          "heatmapgl": [
           {
            "colorbar": {
             "outlinewidth": 0,
             "ticks": ""
            },
            "colorscale": [
             [
              0,
              "#0d0887"
             ],
             [
              0.1111111111111111,
              "#46039f"
             ],
             [
              0.2222222222222222,
              "#7201a8"
             ],
             [
              0.3333333333333333,
              "#9c179e"
             ],
             [
              0.4444444444444444,
              "#bd3786"
             ],
             [
              0.5555555555555556,
              "#d8576b"
             ],
             [
              0.6666666666666666,
              "#ed7953"
             ],
             [
              0.7777777777777778,
              "#fb9f3a"
             ],
             [
              0.8888888888888888,
              "#fdca26"
             ],
             [
              1,
              "#f0f921"
             ]
            ],
            "type": "heatmapgl"
           }
          ],
          "histogram": [
           {
            "marker": {
             "colorbar": {
              "outlinewidth": 0,
              "ticks": ""
             }
            },
            "type": "histogram"
           }
          ],
          "histogram2d": [
           {
            "colorbar": {
             "outlinewidth": 0,
             "ticks": ""
            },
            "colorscale": [
             [
              0,
              "#0d0887"
             ],
             [
              0.1111111111111111,
              "#46039f"
             ],
             [
              0.2222222222222222,
              "#7201a8"
             ],
             [
              0.3333333333333333,
              "#9c179e"
             ],
             [
              0.4444444444444444,
              "#bd3786"
             ],
             [
              0.5555555555555556,
              "#d8576b"
             ],
             [
              0.6666666666666666,
              "#ed7953"
             ],
             [
              0.7777777777777778,
              "#fb9f3a"
             ],
             [
              0.8888888888888888,
              "#fdca26"
             ],
             [
              1,
              "#f0f921"
             ]
            ],
            "type": "histogram2d"
           }
          ],
          "histogram2dcontour": [
           {
            "colorbar": {
             "outlinewidth": 0,
             "ticks": ""
            },
            "colorscale": [
             [
              0,
              "#0d0887"
             ],
             [
              0.1111111111111111,
              "#46039f"
             ],
             [
              0.2222222222222222,
              "#7201a8"
             ],
             [
              0.3333333333333333,
              "#9c179e"
             ],
             [
              0.4444444444444444,
              "#bd3786"
             ],
             [
              0.5555555555555556,
              "#d8576b"
             ],
             [
              0.6666666666666666,
              "#ed7953"
             ],
             [
              0.7777777777777778,
              "#fb9f3a"
             ],
             [
              0.8888888888888888,
              "#fdca26"
             ],
             [
              1,
              "#f0f921"
             ]
            ],
            "type": "histogram2dcontour"
           }
          ],
          "mesh3d": [
           {
            "colorbar": {
             "outlinewidth": 0,
             "ticks": ""
            },
            "type": "mesh3d"
           }
          ],
          "parcoords": [
           {
            "line": {
             "colorbar": {
              "outlinewidth": 0,
              "ticks": ""
             }
            },
            "type": "parcoords"
           }
          ],
          "pie": [
           {
            "automargin": true,
            "type": "pie"
           }
          ],
          "scatter": [
           {
            "marker": {
             "colorbar": {
              "outlinewidth": 0,
              "ticks": ""
             }
            },
            "type": "scatter"
           }
          ],
          "scatter3d": [
           {
            "line": {
             "colorbar": {
              "outlinewidth": 0,
              "ticks": ""
             }
            },
            "marker": {
             "colorbar": {
              "outlinewidth": 0,
              "ticks": ""
             }
            },
            "type": "scatter3d"
           }
          ],
          "scattercarpet": [
           {
            "marker": {
             "colorbar": {
              "outlinewidth": 0,
              "ticks": ""
             }
            },
            "type": "scattercarpet"
           }
          ],
          "scattergeo": [
           {
            "marker": {
             "colorbar": {
              "outlinewidth": 0,
              "ticks": ""
             }
            },
            "type": "scattergeo"
           }
          ],
          "scattergl": [
           {
            "marker": {
             "colorbar": {
              "outlinewidth": 0,
              "ticks": ""
             }
            },
            "type": "scattergl"
           }
          ],
          "scattermapbox": [
           {
            "marker": {
             "colorbar": {
              "outlinewidth": 0,
              "ticks": ""
             }
            },
            "type": "scattermapbox"
           }
          ],
          "scatterpolar": [
           {
            "marker": {
             "colorbar": {
              "outlinewidth": 0,
              "ticks": ""
             }
            },
            "type": "scatterpolar"
           }
          ],
          "scatterpolargl": [
           {
            "marker": {
             "colorbar": {
              "outlinewidth": 0,
              "ticks": ""
             }
            },
            "type": "scatterpolargl"
           }
          ],
          "scatterternary": [
           {
            "marker": {
             "colorbar": {
              "outlinewidth": 0,
              "ticks": ""
             }
            },
            "type": "scatterternary"
           }
          ],
          "surface": [
           {
            "colorbar": {
             "outlinewidth": 0,
             "ticks": ""
            },
            "colorscale": [
             [
              0,
              "#0d0887"
             ],
             [
              0.1111111111111111,
              "#46039f"
             ],
             [
              0.2222222222222222,
              "#7201a8"
             ],
             [
              0.3333333333333333,
              "#9c179e"
             ],
             [
              0.4444444444444444,
              "#bd3786"
             ],
             [
              0.5555555555555556,
              "#d8576b"
             ],
             [
              0.6666666666666666,
              "#ed7953"
             ],
             [
              0.7777777777777778,
              "#fb9f3a"
             ],
             [
              0.8888888888888888,
              "#fdca26"
             ],
             [
              1,
              "#f0f921"
             ]
            ],
            "type": "surface"
           }
          ],
          "table": [
           {
            "cells": {
             "fill": {
              "color": "#EBF0F8"
             },
             "line": {
              "color": "white"
             }
            },
            "header": {
             "fill": {
              "color": "#C8D4E3"
             },
             "line": {
              "color": "white"
             }
            },
            "type": "table"
           }
          ]
         },
         "layout": {
          "annotationdefaults": {
           "arrowcolor": "#2a3f5f",
           "arrowhead": 0,
           "arrowwidth": 1
          },
          "autotypenumbers": "strict",
          "coloraxis": {
           "colorbar": {
            "outlinewidth": 0,
            "ticks": ""
           }
          },
          "colorscale": {
           "diverging": [
            [
             0,
             "#8e0152"
            ],
            [
             0.1,
             "#c51b7d"
            ],
            [
             0.2,
             "#de77ae"
            ],
            [
             0.3,
             "#f1b6da"
            ],
            [
             0.4,
             "#fde0ef"
            ],
            [
             0.5,
             "#f7f7f7"
            ],
            [
             0.6,
             "#e6f5d0"
            ],
            [
             0.7,
             "#b8e186"
            ],
            [
             0.8,
             "#7fbc41"
            ],
            [
             0.9,
             "#4d9221"
            ],
            [
             1,
             "#276419"
            ]
           ],
           "sequential": [
            [
             0,
             "#0d0887"
            ],
            [
             0.1111111111111111,
             "#46039f"
            ],
            [
             0.2222222222222222,
             "#7201a8"
            ],
            [
             0.3333333333333333,
             "#9c179e"
            ],
            [
             0.4444444444444444,
             "#bd3786"
            ],
            [
             0.5555555555555556,
             "#d8576b"
            ],
            [
             0.6666666666666666,
             "#ed7953"
            ],
            [
             0.7777777777777778,
             "#fb9f3a"
            ],
            [
             0.8888888888888888,
             "#fdca26"
            ],
            [
             1,
             "#f0f921"
            ]
           ],
           "sequentialminus": [
            [
             0,
             "#0d0887"
            ],
            [
             0.1111111111111111,
             "#46039f"
            ],
            [
             0.2222222222222222,
             "#7201a8"
            ],
            [
             0.3333333333333333,
             "#9c179e"
            ],
            [
             0.4444444444444444,
             "#bd3786"
            ],
            [
             0.5555555555555556,
             "#d8576b"
            ],
            [
             0.6666666666666666,
             "#ed7953"
            ],
            [
             0.7777777777777778,
             "#fb9f3a"
            ],
            [
             0.8888888888888888,
             "#fdca26"
            ],
            [
             1,
             "#f0f921"
            ]
           ]
          },
          "colorway": [
           "#636efa",
           "#EF553B",
           "#00cc96",
           "#ab63fa",
           "#FFA15A",
           "#19d3f3",
           "#FF6692",
           "#B6E880",
           "#FF97FF",
           "#FECB52"
          ],
          "font": {
           "color": "#2a3f5f"
          },
          "geo": {
           "bgcolor": "white",
           "lakecolor": "white",
           "landcolor": "#E5ECF6",
           "showlakes": true,
           "showland": true,
           "subunitcolor": "white"
          },
          "hoverlabel": {
           "align": "left"
          },
          "hovermode": "closest",
          "mapbox": {
           "style": "light"
          },
          "paper_bgcolor": "white",
          "plot_bgcolor": "#E5ECF6",
          "polar": {
           "angularaxis": {
            "gridcolor": "white",
            "linecolor": "white",
            "ticks": ""
           },
           "bgcolor": "#E5ECF6",
           "radialaxis": {
            "gridcolor": "white",
            "linecolor": "white",
            "ticks": ""
           }
          },
          "scene": {
           "xaxis": {
            "backgroundcolor": "#E5ECF6",
            "gridcolor": "white",
            "gridwidth": 2,
            "linecolor": "white",
            "showbackground": true,
            "ticks": "",
            "zerolinecolor": "white"
           },
           "yaxis": {
            "backgroundcolor": "#E5ECF6",
            "gridcolor": "white",
            "gridwidth": 2,
            "linecolor": "white",
            "showbackground": true,
            "ticks": "",
            "zerolinecolor": "white"
           },
           "zaxis": {
            "backgroundcolor": "#E5ECF6",
            "gridcolor": "white",
            "gridwidth": 2,
            "linecolor": "white",
            "showbackground": true,
            "ticks": "",
            "zerolinecolor": "white"
           }
          },
          "shapedefaults": {
           "line": {
            "color": "#2a3f5f"
           }
          },
          "ternary": {
           "aaxis": {
            "gridcolor": "white",
            "linecolor": "white",
            "ticks": ""
           },
           "baxis": {
            "gridcolor": "white",
            "linecolor": "white",
            "ticks": ""
           },
           "bgcolor": "#E5ECF6",
           "caxis": {
            "gridcolor": "white",
            "linecolor": "white",
            "ticks": ""
           }
          },
          "title": {
           "x": 0.05
          },
          "xaxis": {
           "automargin": true,
           "gridcolor": "white",
           "linecolor": "white",
           "ticks": "",
           "title": {
            "standoff": 15
           },
           "zerolinecolor": "white",
           "zerolinewidth": 2
          },
          "yaxis": {
           "automargin": true,
           "gridcolor": "white",
           "linecolor": "white",
           "ticks": "",
           "title": {
            "standoff": 15
           },
           "zerolinecolor": "white",
           "zerolinewidth": 2
          }
         }
        },
        "title": {
         "text": "Performance of 4 ML Models Using 10-Fold Cross-Validation"
        },
        "xaxis": {
         "title": {
          "text": "<b>ML Model</b>"
         }
        },
        "yaxis": {
         "title": {
          "text": "<b>Accuracy % </b>"
         }
        }
       }
      },
      "text/html": [
       "<div>                            <div id=\"c1d6dd77-d4c5-4c16-afe6-501f1df49246\" class=\"plotly-graph-div\" style=\"height:525px; width:100%;\"></div>            <script type=\"text/javascript\">                require([\"plotly\"], function(Plotly) {                    window.PLOTLYENV=window.PLOTLYENV || {};                                    if (document.getElementById(\"c1d6dd77-d4c5-4c16-afe6-501f1df49246\")) {                    Plotly.newPlot(                        \"c1d6dd77-d4c5-4c16-afe6-501f1df49246\",                        [{\"boxpoints\": \"all\", \"jitter\": 0.8, \"line\": {\"width\": 2}, \"marker\": {\"size\": 5}, \"name\": \"Logisitc Regression\", \"type\": \"box\", \"whiskerwidth\": 0.9, \"y\": [78.87, 80.05, 82.68, 78.98, 80.55, 84.76, 80.68, 77.92, 77.14, 80.95]}, {\"boxpoints\": \"all\", \"jitter\": 0.8, \"line\": {\"width\": 2}, \"marker\": {\"size\": 5}, \"name\": \"Random_Forest\", \"type\": \"box\", \"whiskerwidth\": 0.9, \"y\": [75.85, 77.69, 76.38, 76.74, 76.87, 79.24, 76.08, 75.82, 73.85, 77.66]}, {\"boxpoints\": \"all\", \"jitter\": 0.8, \"line\": {\"width\": 2}, \"marker\": {\"size\": 5}, \"name\": \"Support_Vecotr_Machine\", \"type\": \"box\", \"whiskerwidth\": 0.9, \"y\": [79.13, 82.41, 82.94, 80.68, 80.42, 84.63, 80.55, 78.98, 77.4, 80.81]}, {\"boxpoints\": \"all\", \"jitter\": 0.8, \"line\": {\"width\": 2}, \"marker\": {\"size\": 5}, \"name\": \"Naive_Bayes\", \"type\": \"box\", \"whiskerwidth\": 0.9, \"y\": [77.82, 82.02, 81.5, 78.84, 79.63, 83.31, 79.76, 78.19, 78.32, 78.58]}],                        {\"paper_bgcolor\": \"rgb(243, 243, 243)\", \"plot_bgcolor\": \"rgb(243, 243, 243)\", \"showlegend\": true, \"template\": {\"data\": {\"bar\": [{\"error_x\": {\"color\": \"#2a3f5f\"}, \"error_y\": {\"color\": \"#2a3f5f\"}, \"marker\": {\"line\": {\"color\": \"#E5ECF6\", \"width\": 0.5}}, \"type\": \"bar\"}], \"barpolar\": [{\"marker\": {\"line\": {\"color\": \"#E5ECF6\", \"width\": 0.5}}, \"type\": \"barpolar\"}], \"carpet\": [{\"aaxis\": {\"endlinecolor\": \"#2a3f5f\", \"gridcolor\": \"white\", \"linecolor\": \"white\", \"minorgridcolor\": \"white\", \"startlinecolor\": \"#2a3f5f\"}, \"baxis\": {\"endlinecolor\": \"#2a3f5f\", \"gridcolor\": \"white\", \"linecolor\": \"white\", \"minorgridcolor\": \"white\", \"startlinecolor\": \"#2a3f5f\"}, \"type\": \"carpet\"}], \"choropleth\": [{\"colorbar\": {\"outlinewidth\": 0, \"ticks\": \"\"}, \"type\": \"choropleth\"}], \"contour\": [{\"colorbar\": {\"outlinewidth\": 0, \"ticks\": \"\"}, \"colorscale\": [[0.0, \"#0d0887\"], [0.1111111111111111, \"#46039f\"], [0.2222222222222222, \"#7201a8\"], [0.3333333333333333, \"#9c179e\"], [0.4444444444444444, \"#bd3786\"], [0.5555555555555556, \"#d8576b\"], [0.6666666666666666, \"#ed7953\"], [0.7777777777777778, \"#fb9f3a\"], [0.8888888888888888, \"#fdca26\"], [1.0, \"#f0f921\"]], \"type\": \"contour\"}], \"contourcarpet\": [{\"colorbar\": {\"outlinewidth\": 0, \"ticks\": \"\"}, \"type\": \"contourcarpet\"}], \"heatmap\": [{\"colorbar\": {\"outlinewidth\": 0, \"ticks\": \"\"}, \"colorscale\": [[0.0, \"#0d0887\"], [0.1111111111111111, \"#46039f\"], [0.2222222222222222, \"#7201a8\"], [0.3333333333333333, \"#9c179e\"], [0.4444444444444444, \"#bd3786\"], [0.5555555555555556, \"#d8576b\"], [0.6666666666666666, \"#ed7953\"], [0.7777777777777778, \"#fb9f3a\"], [0.8888888888888888, \"#fdca26\"], [1.0, \"#f0f921\"]], \"type\": \"heatmap\"}], \"heatmapgl\": [{\"colorbar\": {\"outlinewidth\": 0, \"ticks\": \"\"}, \"colorscale\": [[0.0, \"#0d0887\"], [0.1111111111111111, \"#46039f\"], [0.2222222222222222, \"#7201a8\"], [0.3333333333333333, \"#9c179e\"], [0.4444444444444444, \"#bd3786\"], [0.5555555555555556, \"#d8576b\"], [0.6666666666666666, \"#ed7953\"], [0.7777777777777778, \"#fb9f3a\"], [0.8888888888888888, \"#fdca26\"], [1.0, \"#f0f921\"]], \"type\": \"heatmapgl\"}], \"histogram\": [{\"marker\": {\"colorbar\": {\"outlinewidth\": 0, \"ticks\": \"\"}}, \"type\": \"histogram\"}], \"histogram2d\": [{\"colorbar\": {\"outlinewidth\": 0, \"ticks\": \"\"}, \"colorscale\": [[0.0, \"#0d0887\"], [0.1111111111111111, \"#46039f\"], [0.2222222222222222, \"#7201a8\"], [0.3333333333333333, \"#9c179e\"], [0.4444444444444444, \"#bd3786\"], [0.5555555555555556, \"#d8576b\"], [0.6666666666666666, \"#ed7953\"], [0.7777777777777778, \"#fb9f3a\"], [0.8888888888888888, \"#fdca26\"], [1.0, \"#f0f921\"]], \"type\": \"histogram2d\"}], \"histogram2dcontour\": [{\"colorbar\": {\"outlinewidth\": 0, \"ticks\": \"\"}, \"colorscale\": [[0.0, \"#0d0887\"], [0.1111111111111111, \"#46039f\"], [0.2222222222222222, \"#7201a8\"], [0.3333333333333333, \"#9c179e\"], [0.4444444444444444, \"#bd3786\"], [0.5555555555555556, \"#d8576b\"], [0.6666666666666666, \"#ed7953\"], [0.7777777777777778, \"#fb9f3a\"], [0.8888888888888888, \"#fdca26\"], [1.0, \"#f0f921\"]], \"type\": \"histogram2dcontour\"}], \"mesh3d\": [{\"colorbar\": {\"outlinewidth\": 0, \"ticks\": \"\"}, \"type\": \"mesh3d\"}], \"parcoords\": [{\"line\": {\"colorbar\": {\"outlinewidth\": 0, \"ticks\": \"\"}}, \"type\": \"parcoords\"}], \"pie\": [{\"automargin\": true, \"type\": \"pie\"}], \"scatter\": [{\"marker\": {\"colorbar\": {\"outlinewidth\": 0, \"ticks\": \"\"}}, \"type\": \"scatter\"}], \"scatter3d\": [{\"line\": {\"colorbar\": {\"outlinewidth\": 0, \"ticks\": \"\"}}, \"marker\": {\"colorbar\": {\"outlinewidth\": 0, \"ticks\": \"\"}}, \"type\": \"scatter3d\"}], \"scattercarpet\": [{\"marker\": {\"colorbar\": {\"outlinewidth\": 0, \"ticks\": \"\"}}, \"type\": \"scattercarpet\"}], \"scattergeo\": [{\"marker\": {\"colorbar\": {\"outlinewidth\": 0, \"ticks\": \"\"}}, \"type\": \"scattergeo\"}], \"scattergl\": [{\"marker\": {\"colorbar\": {\"outlinewidth\": 0, \"ticks\": \"\"}}, \"type\": \"scattergl\"}], \"scattermapbox\": [{\"marker\": {\"colorbar\": {\"outlinewidth\": 0, \"ticks\": \"\"}}, \"type\": \"scattermapbox\"}], \"scatterpolar\": [{\"marker\": {\"colorbar\": {\"outlinewidth\": 0, \"ticks\": \"\"}}, \"type\": \"scatterpolar\"}], \"scatterpolargl\": [{\"marker\": {\"colorbar\": {\"outlinewidth\": 0, \"ticks\": \"\"}}, \"type\": \"scatterpolargl\"}], \"scatterternary\": [{\"marker\": {\"colorbar\": {\"outlinewidth\": 0, \"ticks\": \"\"}}, \"type\": \"scatterternary\"}], \"surface\": [{\"colorbar\": {\"outlinewidth\": 0, \"ticks\": \"\"}, \"colorscale\": [[0.0, \"#0d0887\"], [0.1111111111111111, \"#46039f\"], [0.2222222222222222, \"#7201a8\"], [0.3333333333333333, \"#9c179e\"], [0.4444444444444444, \"#bd3786\"], [0.5555555555555556, \"#d8576b\"], [0.6666666666666666, \"#ed7953\"], [0.7777777777777778, \"#fb9f3a\"], [0.8888888888888888, \"#fdca26\"], [1.0, \"#f0f921\"]], \"type\": \"surface\"}], \"table\": [{\"cells\": {\"fill\": {\"color\": \"#EBF0F8\"}, \"line\": {\"color\": \"white\"}}, \"header\": {\"fill\": {\"color\": \"#C8D4E3\"}, \"line\": {\"color\": \"white\"}}, \"type\": \"table\"}]}, \"layout\": {\"annotationdefaults\": {\"arrowcolor\": \"#2a3f5f\", \"arrowhead\": 0, \"arrowwidth\": 1}, \"autotypenumbers\": \"strict\", \"coloraxis\": {\"colorbar\": {\"outlinewidth\": 0, \"ticks\": \"\"}}, \"colorscale\": {\"diverging\": [[0, \"#8e0152\"], [0.1, \"#c51b7d\"], [0.2, \"#de77ae\"], [0.3, \"#f1b6da\"], [0.4, \"#fde0ef\"], [0.5, \"#f7f7f7\"], [0.6, \"#e6f5d0\"], [0.7, \"#b8e186\"], [0.8, \"#7fbc41\"], [0.9, \"#4d9221\"], [1, \"#276419\"]], \"sequential\": [[0.0, \"#0d0887\"], [0.1111111111111111, \"#46039f\"], [0.2222222222222222, \"#7201a8\"], [0.3333333333333333, \"#9c179e\"], [0.4444444444444444, \"#bd3786\"], [0.5555555555555556, \"#d8576b\"], [0.6666666666666666, \"#ed7953\"], [0.7777777777777778, \"#fb9f3a\"], [0.8888888888888888, \"#fdca26\"], [1.0, \"#f0f921\"]], \"sequentialminus\": [[0.0, \"#0d0887\"], [0.1111111111111111, \"#46039f\"], [0.2222222222222222, \"#7201a8\"], [0.3333333333333333, \"#9c179e\"], [0.4444444444444444, \"#bd3786\"], [0.5555555555555556, \"#d8576b\"], [0.6666666666666666, \"#ed7953\"], [0.7777777777777778, \"#fb9f3a\"], [0.8888888888888888, \"#fdca26\"], [1.0, \"#f0f921\"]]}, \"colorway\": [\"#636efa\", \"#EF553B\", \"#00cc96\", \"#ab63fa\", \"#FFA15A\", \"#19d3f3\", \"#FF6692\", \"#B6E880\", \"#FF97FF\", \"#FECB52\"], \"font\": {\"color\": \"#2a3f5f\"}, \"geo\": {\"bgcolor\": \"white\", \"lakecolor\": \"white\", \"landcolor\": \"#E5ECF6\", \"showlakes\": true, \"showland\": true, \"subunitcolor\": \"white\"}, \"hoverlabel\": {\"align\": \"left\"}, \"hovermode\": \"closest\", \"mapbox\": {\"style\": \"light\"}, \"paper_bgcolor\": \"white\", \"plot_bgcolor\": \"#E5ECF6\", \"polar\": {\"angularaxis\": {\"gridcolor\": \"white\", \"linecolor\": \"white\", \"ticks\": \"\"}, \"bgcolor\": \"#E5ECF6\", \"radialaxis\": {\"gridcolor\": \"white\", \"linecolor\": \"white\", \"ticks\": \"\"}}, \"scene\": {\"xaxis\": {\"backgroundcolor\": \"#E5ECF6\", \"gridcolor\": \"white\", \"gridwidth\": 2, \"linecolor\": \"white\", \"showbackground\": true, \"ticks\": \"\", \"zerolinecolor\": \"white\"}, \"yaxis\": {\"backgroundcolor\": \"#E5ECF6\", \"gridcolor\": \"white\", \"gridwidth\": 2, \"linecolor\": \"white\", \"showbackground\": true, \"ticks\": \"\", \"zerolinecolor\": \"white\"}, \"zaxis\": {\"backgroundcolor\": \"#E5ECF6\", \"gridcolor\": \"white\", \"gridwidth\": 2, \"linecolor\": \"white\", \"showbackground\": true, \"ticks\": \"\", \"zerolinecolor\": \"white\"}}, \"shapedefaults\": {\"line\": {\"color\": \"#2a3f5f\"}}, \"ternary\": {\"aaxis\": {\"gridcolor\": \"white\", \"linecolor\": \"white\", \"ticks\": \"\"}, \"baxis\": {\"gridcolor\": \"white\", \"linecolor\": \"white\", \"ticks\": \"\"}, \"bgcolor\": \"#E5ECF6\", \"caxis\": {\"gridcolor\": \"white\", \"linecolor\": \"white\", \"ticks\": \"\"}}, \"title\": {\"x\": 0.05}, \"xaxis\": {\"automargin\": true, \"gridcolor\": \"white\", \"linecolor\": \"white\", \"ticks\": \"\", \"title\": {\"standoff\": 15}, \"zerolinecolor\": \"white\", \"zerolinewidth\": 2}, \"yaxis\": {\"automargin\": true, \"gridcolor\": \"white\", \"linecolor\": \"white\", \"ticks\": \"\", \"title\": {\"standoff\": 15}, \"zerolinecolor\": \"white\", \"zerolinewidth\": 2}}}, \"title\": {\"text\": \"Performance of 4 ML Models Using 10-Fold Cross-Validation\"}, \"xaxis\": {\"title\": {\"text\": \"<b>ML Model</b>\"}}, \"yaxis\": {\"title\": {\"text\": \"<b>Accuracy % </b>\"}}},                        {\"responsive\": true}                    ).then(function(){\n",
       "                            \n",
       "var gd = document.getElementById('c1d6dd77-d4c5-4c16-afe6-501f1df49246');\n",
       "var x = new MutationObserver(function (mutations, observer) {{\n",
       "        var display = window.getComputedStyle(gd).display;\n",
       "        if (!display || display === 'none') {{\n",
       "            console.log([gd, 'removed!']);\n",
       "            Plotly.purge(gd);\n",
       "            observer.disconnect();\n",
       "        }}\n",
       "}});\n",
       "\n",
       "// Listen for the removal of the full notebook cells\n",
       "var notebookContainer = gd.closest('#notebook-container');\n",
       "if (notebookContainer) {{\n",
       "    x.observe(notebookContainer, {childList: true});\n",
       "}}\n",
       "\n",
       "// Listen for the clearing of the current output cell\n",
       "var outputEl = gd.closest('.output');\n",
       "if (outputEl) {{\n",
       "    x.observe(outputEl, {childList: true});\n",
       "}}\n",
       "\n",
       "                        })                };                });            </script>        </div>"
      ]
     },
     "metadata": {},
     "output_type": "display_data"
    }
   ],
   "source": [
    "resutls_visulization(models_accuracy)"
   ]
  }
 ],
 "metadata": {
  "kernelspec": {
   "display_name": "Python 3",
   "language": "python",
   "name": "python3"
  },
  "language_info": {
   "codemirror_mode": {
    "name": "ipython",
    "version": 3
   },
   "file_extension": ".py",
   "mimetype": "text/x-python",
   "name": "python",
   "nbconvert_exporter": "python",
   "pygments_lexer": "ipython3",
   "version": "3.8.5"
  }
 },
 "nbformat": 4,
 "nbformat_minor": 4
}
